{
 "cells": [
  {
   "cell_type": "markdown",
   "metadata": {},
   "source": [
    "# **Đồ án môn học**\n",
    "## Môn: Lập trình song song ứng dụng\n",
    "### Lớp CQ2021/21 - Nhóm 05\n",
    "#### Thành viên:\n",
    "| Họ và tên             | MSSV |\n",
    "| :-----------          |     :----:|\n",
    "| Diệp Đại Thiện Nhân | 18120491  |\n",
    "| Hoàng Trung Nam  | 21120290 |\n"
   ]
  },
  {
   "cell_type": "markdown",
   "metadata": {},
   "source": [
    "# **Tổng quan đồ án**\n",
    "\n",
    "- Nhóm quyết định thử sức với VGG.\n",
    "\n",
    "- VGG là một kiến trúc CNN sâu được giới thiệu bởi nhóm VGG (Visual Geometry Group) thuộc Đại học Oxford năm 2014. Kiến trúc này nổi bật bởi việc sử dụng nhiều lớp convolution 3x3 liên tiếp thay vì một lớp convolution lớn (vd: 5x5 hay 7x7), nhằm tăng khả năng học đặc trưng và giữ kích thước receptive field ổn định.\n",
    "\n",
    "- Hai phiên bản phổ biến:\n",
    "  - VGG-16: 16 lớp có trọng số (13 conv + 3 FC).\n",
    "  - VGG-19: 19 lớp có trọng số (16 conv + 3 FC).\n",
    "\n",
    "- **Input của CIFAR-10** là `32x32x3`, nhỏ hơn rất nhiều so với `224x224x3` của VGG gốc.\n",
    "\n",
    "Vậy nên, khi áp dụng VGG cho CIFAR-10, ta cần **giảm số lượng layer** hoặc **điều chỉnh input size** như sau:"
   ]
  },
  {
   "cell_type": "markdown",
   "metadata": {},
   "source": [
    "## **Kiến trúc mô hình cụ thể**\n",
    "\n",
    "- **Input Layer**  \n",
    "  - 32×32×3 (RGB)\n",
    "\n",
    "- **Block 1**  \n",
    "  - Conv3×3, 64 filters + ReLU  \n",
    "  - Conv3×3, 64 filters + ReLU  \n",
    "  - MaxPool 2×2\n",
    "\n",
    "- **Block 2**  \n",
    "  - Conv3×3, 128 filters + ReLU  \n",
    "  - Conv3×3, 128 filters + ReLU  \n",
    "  - MaxPool 2×2\n",
    "\n",
    "- **Block 3**  \n",
    "  - Conv3×3, 256 filters + ReLU  \n",
    "  - Conv3×3, 256 filters + ReLU  \n",
    "  - MaxPool 2×2\n",
    "\n",
    "- **Fully Connected**  \n",
    "  - FC 512 + ReLU  \n",
    "  - FC 10 + Softmax\n",
    "\n",
    "- **Optimization**  \n",
    "  - Loss: Cross‑Entropy  \n",
    "  - Optimizer: SGD/Adam  \n",
    "  - Parallelization: Viết bằng Numpy → tối ưu với Numba (`@cuda.jit`)\n",
    "\n",
    "Kiến trúc VGG‑like này giữ tinh thần “nhiều conv 3×3” của VGG gốc nhưng thu gọn cho phù hợp với kích thước ảnh 32×32 và dataset CIFAR‑10."
   ]
  },
  {
   "cell_type": "markdown",
   "metadata": {},
   "source": [
    "## **Dataset**\n",
    "\n",
    "- **CIFAR-10**:\n",
    "  - 60.000 ảnh màu 32×32 thuộc 10 lớp.\n",
    "\n",
    "  - 50.000 ảnh train, 10.000 ảnh test.\n",
    "\n",
    "  - Link: https://www.cs.toronto.edu/~kriz/cifar.html"
   ]
  },
  {
   "cell_type": "markdown",
   "metadata": {},
   "source": [
    "## **Nội dung đã hoàn thành**"
   ]
  },
  {
   "cell_type": "markdown",
   "metadata": {},
   "source": []
  }
 ],
 "metadata": {
  "kernelspec": {
   "display_name": "Python 3",
   "language": "python",
   "name": "python3"
  },
  "language_info": {
   "codemirror_mode": {
    "name": "ipython",
    "version": 3
   },
   "file_extension": ".py",
   "mimetype": "text/x-python",
   "name": "python",
   "nbconvert_exporter": "python",
   "pygments_lexer": "ipython3",
   "version": "3.12.10"
  }
 },
 "nbformat": 4,
 "nbformat_minor": 2
}
