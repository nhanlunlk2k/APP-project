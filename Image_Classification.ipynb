{
  "cells": [
    {
      "cell_type": "markdown",
      "metadata": {
        "id": "view-in-github",
        "colab_type": "text"
      },
      "source": [
        "<a href=\"https://colab.research.google.com/github/nhanlunlk2k/APP-project/blob/main/Image_Classification.ipynb\" target=\"_parent\"><img src=\"https://colab.research.google.com/assets/colab-badge.svg\" alt=\"Open In Colab\"/></a>"
      ]
    },
    {
      "cell_type": "markdown",
      "metadata": {
        "id": "2QJJOhWL0e2F"
      },
      "source": [
        "# **Đồ án môn học**\n",
        "## Môn: Lập trình song song ứng dụng\n",
        "### Lớp CQ2021/21 - Nhóm 05\n",
        "#### Thành viên:\n",
        "| Họ và tên             | MSSV |\n",
        "| :-----------          |     :----:|\n",
        "| Diệp Đại Thiện Nhân | 18120491  |\n",
        "| Hoàng Trung Nam  | 21120290 |\n"
      ]
    },
    {
      "cell_type": "markdown",
      "metadata": {
        "id": "rWWyaNuo0e2I"
      },
      "source": [
        "# **Tổng quan đồ án**\n",
        "\n",
        "- Nhóm quyết định thử sức với VGG.\n",
        "\n",
        "- VGG là một kiến trúc CNN sâu được giới thiệu bởi nhóm VGG (Visual Geometry Group) thuộc Đại học Oxford năm 2014. Kiến trúc này nổi bật bởi việc sử dụng nhiều lớp convolution 3x3 liên tiếp thay vì một lớp convolution lớn (vd: 5x5 hay 7x7), nhằm tăng khả năng học đặc trưng và giữ kích thước receptive field ổn định.\n",
        "\n",
        "- Hai phiên bản phổ biến:\n",
        "  - VGG-16: 16 lớp có trọng số (13 conv + 3 FC).\n",
        "  - VGG-19: 19 lớp có trọng số (16 conv + 3 FC).\n",
        "\n",
        "- **Input của CIFAR-10** là `32x32x3`, nhỏ hơn rất nhiều so với `224x224x3` của VGG gốc.\n",
        "\n",
        "Vậy nên, khi áp dụng VGG cho CIFAR-10, ta cần **giảm số lượng layer** hoặc **điều chỉnh input size** như sau:"
      ]
    },
    {
      "cell_type": "markdown",
      "metadata": {
        "id": "bC-M_SZ50e2J"
      },
      "source": [
        "## **Kiến trúc mô hình cụ thể**\n",
        "\n",
        "- **Input Layer**  \n",
        "  - 32×32×3 (RGB)\n",
        "\n",
        "- **Block 1**  \n",
        "  - Conv3×3, 64 filters + ReLU  \n",
        "  - Conv3×3, 64 filters + ReLU  \n",
        "  - MaxPool 2×2\n",
        "\n",
        "- **Block 2**  \n",
        "  - Conv3×3, 128 filters + ReLU  \n",
        "  - Conv3×3, 128 filters + ReLU  \n",
        "  - MaxPool 2×2\n",
        "\n",
        "- **Block 3**  \n",
        "  - Conv3×3, 256 filters + ReLU  \n",
        "  - Conv3×3, 256 filters + ReLU  \n",
        "  - MaxPool 2×2\n",
        "\n",
        "- **Fully Connected**  \n",
        "  - FC 512 + ReLU  \n",
        "  - FC 10 + Softmax\n",
        "\n",
        "- **Optimization**  \n",
        "  - Loss: Cross‑Entropy  \n",
        "  - Optimizer: SGD/Adam  \n",
        "  - Parallelization: Viết bằng Numpy → tối ưu với Numba (`@cuda.jit`)\n",
        "\n",
        "Kiến trúc VGG‑like này giữ tinh thần “nhiều conv 3×3” của VGG gốc nhưng thu gọn cho phù hợp với kích thước ảnh 32×32 và dataset CIFAR‑10."
      ]
    },
    {
      "cell_type": "markdown",
      "metadata": {
        "id": "CT0QYyAp0e2J"
      },
      "source": [
        "## **Dataset**\n",
        "\n",
        "- **CIFAR-10**:\n",
        "  - 60.000 ảnh màu 32×32 thuộc 10 lớp.\n",
        "\n",
        "  - 50.000 ảnh train, 10.000 ảnh test.\n",
        "\n",
        "  - Link: https://www.cs.toronto.edu/~kriz/cifar.html"
      ]
    },
    {
      "cell_type": "markdown",
      "metadata": {
        "id": "s32BE0Gc0e2K"
      },
      "source": [
        "## **Nội dung đã hoàn thành**"
      ]
    },
    {
      "cell_type": "markdown",
      "metadata": {
        "id": "ASeCnkw50e2K"
      },
      "source": []
    },
    {
      "cell_type": "markdown",
      "metadata": {
        "id": "aN-V4nRp0e2K"
      },
      "source": [
        "## **Cài đặt hàm tuần tự**"
      ]
    },
    {
      "cell_type": "markdown",
      "metadata": {
        "id": "KiSRvusc0e2L"
      },
      "source": [
        "### **Ý tưởng**\n",
        "\n",
        "#### 📥 Input Layer\n",
        "\n",
        "- Kích thước ảnh: **32 × 32 × 3 (RGB)**  \n",
        "- Sau mỗi layer, kích thước thay đổi tùy theo padding và pooling.\n",
        "\n",
        "---\n",
        "\n",
        "#### 🧠 1. Convolutional Layer (3×3)\n",
        "\n",
        "**Công thức:**\n",
        "\n",
        "$$\n",
        "Y[i,j,cout] = \\sum_{u=0}^{2} \\sum_{v=0}^{2} \\sum_{cin=0}^{C_{in}-1} K[u,v,cin,cout] \\cdot X[i+u, j+v, cin]\n",
        "$$\n",
        "\n",
        "**Chú thích biến:**\n",
        "- $ X $ : ảnh đầu vào, kích thước (H, W, Cin)\n",
        "- $K$: kernel/lọc, kích thước (3, 3, Cin, Cout)\n",
        "- $Y$: ảnh đầu ra sau convolution, kích thước (H', W', Cout)\n",
        "- $i, j$: vị trí không gian\n",
        "- $u, v$: tọa độ trong kernel\n",
        "- $cin, cout$: chỉ số kênh đầu vào và đầu ra\n",
        "\n",
        "**Song song hóa:**  \n",
        "✔ Mỗi phần tử $Y[i,j,cout]$ độc lập → triển khai bằng `@cuda.jit` (Numba)\n",
        "\n",
        "---\n",
        "\n",
        "#### ⚡ 2. Activation Layer (ReLU)\n",
        "\n",
        "**Công thức:**\n",
        "\n",
        "$$\n",
        "A[i,j,c] = \\max(0, Z[i,j,c])\n",
        "$$\n",
        "\n",
        "**Chú thích biến:**\n",
        "- $Z$ : đầu ra từ convolution\n",
        "- $A$: đầu ra sau kích hoạt ReLU\n",
        "\n",
        "**Song song hóa:**  \n",
        "✔ Mỗi phần tử độc lập → dùng `@vectorize` hoặc `@cuda.jit`\n",
        "\n",
        "---\n",
        "\n",
        "#### 🌊 3. Max Pooling Layer (2×2)\n",
        "\n",
        "**Công thức:**\n",
        "\n",
        "$$\n",
        "P[i,j,c] = \\max \\begin{Bmatrix}\n",
        "X[2i, 2j, c], & X[2i+1, 2j, c], \\\\\n",
        "X[2i, 2j+1, c], & X[2i+1, 2j+1, c]\n",
        "\\end{Bmatrix}\n",
        "$$\n",
        "\n",
        "**Chú thích biến:**\n",
        "- $X$: đầu vào trước pooling\n",
        "- $P$: đầu ra sau pooling\n",
        "- $i, j$: vị trí trên ảnh pooling\n",
        "- $c$ : kênh màu\n",
        "\n",
        "**Song song hóa:**  \n",
        "✔ Mỗi vùng pooling độc lập → dùng `@cuda.jit`\n",
        "\n",
        "---\n",
        "\n",
        "#### 🧩 4. Fully Connected Layer (FC)\n",
        "\n",
        "**Công thức:**\n",
        "\n",
        "$$\n",
        "y_k = \\sum_{d=0}^{D-1} W[d,k] \\cdot x_d + b_k\n",
        "$$\n",
        "\n",
        "**Chú thích biến:**\n",
        "- $x$: vector đầu vào đã flatten (sau các conv)\n",
        "- $W$: ma trận trọng số FC (D, K)\n",
        "- $b$: bias\n",
        "- $y$: output vector\n",
        "\n",
        "**Song song hóa:**  \n",
        "✔ Mỗi $y_k$ độc lập → dùng `@cuda.jit` hoặc `@njit(parallel=True)`\n",
        "\n",
        "---\n",
        "\n",
        "#### 🔥 5. Softmax + Cross-Entropy Loss\n",
        "\n",
        "**Softmax:**\n",
        "\n",
        "$$\n",
        "p_i = \\frac{e^{y_i}}{\\sum_j e^{y_j}}\n",
        "$$\n",
        "\n",
        "**Loss:**\n",
        "\n",
        "$$\n",
        "L = -\\sum_i t_i \\cdot \\log(p_i)\n",
        "$$\n",
        "\n",
        "**Chú thích biến:**\n",
        "- $y_i$: giá trị đầu ra từ FC\n",
        "- $p_i$: xác suất sau softmax\n",
        "- $t_i$: nhãn thật (one-hot)\n",
        "- $L$: hàm mất mát\n",
        "\n",
        "**Song song hóa:**  \n",
        "✘ Không cần, tính nhẹ, có thể xử lý trên CPU\n",
        "\n",
        "---\n",
        "\n",
        "#### 🔁 6. Backpropagation + Weight Update\n",
        "\n",
        "##### Gradient của Softmax + CrossEntropy:\n",
        "\n",
        "$$\n",
        "\\frac{\\partial L}{\\partial y_i} = p_i - t_i \\quad hay \\quad\n",
        "\\frac{\\partial L}{\\partial y} = p - t\n",
        "$$\n",
        "\n",
        "---\n",
        "\n",
        "##### Gradient của FC:\n",
        "\n",
        "$$\n",
        "\\frac{\\partial L}{\\partial W[d,k]} = x_d \\cdot \\frac{\\partial L}{\\partial y_k}\n",
        "\\quad ; \\quad\n",
        "\\frac{\\partial L}{\\partial b_k} = \\frac{\\partial L}{\\partial y_k}\n",
        "$$\n",
        "hay\n",
        "$$\n",
        "\\frac{\\partial L}{\\partial W} = x \\cdot \\frac{\\partial L}{\\partial y} \\quad ; \\quad \\frac{\\partial L}{\\partial b} = \\frac{\\partial L}{\\partial y}\n",
        "$$\n",
        "\n",
        "**Song song hóa:** ✔ từng phần tử độc lập → `@cuda.jit`\n",
        "\n",
        "---\n",
        "\n",
        "##### Gradient của ReLU:\n",
        "\n",
        "$$\n",
        "\\frac{\\partial L}{\\partial Z[i,j,c]} =\n",
        "\\begin{cases}\n",
        "\\frac{\\partial L}{\\partial A[i,j,c]}, & \\text{if } Z[i,j,c] > 0 \\\\\n",
        "0, & \\text{otherwise}\n",
        "\\end{cases}\n",
        "$$\n",
        "\n",
        "---\n",
        "\n",
        "##### Gradient của Convolution:\n",
        "\n",
        "$$\n",
        "\\frac{\\partial L}{\\partial K[u,v,cin,cout]} = \\sum_{i,j} \\frac{\\partial L}{\\partial Y[i,j,cout]} \\cdot X[i+u,j+v,cin]\n",
        "$$\n",
        "\n",
        "$$\n",
        "\\frac{\\partial L}{\\partial X[i,j,cin]} = \\sum_{u,v,cout} \\frac{\\partial L}{\\partial Y[i-u,j-v,cout]} \\cdot K[u,v,cin,cout]\n",
        "$$\n",
        "\n",
        "**Song song hóa:** ✔ nặng nhất → dùng `@cuda.jit` để tối ưu\n",
        "\n",
        "---\n",
        "\n",
        "#### ✅ Tóm tắt khả năng song song hóa\n",
        "\n",
        "| Lớp              | Cần song song | Ghi chú                                |\n",
        "|------------------|----------------|----------------------------------------|\n",
        "| Convolution       | ✅              | Tính toán nặng, phần tử độc lập         |\n",
        "| ReLU              | ✅              | Mỗi phần tử tính riêng được             |\n",
        "| Max Pooling       | ✅              | Mỗi vùng pooling độc lập               |\n",
        "| Fully Connected   | ✅              | Mỗi neuron đầu ra độc lập              |\n",
        "| Softmax + Loss    | ❌              | Tính nhẹ, xử lý CPU vẫn hiệu quả       |\n",
        "| Backpropagation   | ✅              | Các đạo hàm có thể tính độc lập        |\n",
        "\n"
      ]
    },
    {
      "cell_type": "markdown",
      "metadata": {
        "id": "iUCa-1Jm0e2M"
      },
      "source": [
        "### **Chuẩn bị dữ liệu**"
      ]
    },
    {
      "cell_type": "code",
      "execution_count": null,
      "metadata": {
        "colab": {
          "base_uri": "https://localhost:8080/"
        },
        "id": "EWxoZCQ70e2M",
        "outputId": "fe89b0c3-74e9-439e-db18-c67740405ace"
      },
      "outputs": [
        {
          "output_type": "stream",
          "name": "stdout",
          "text": [
            "⏬ Downloading CIFAR-10...\n",
            "📦 Extracting CIFAR-10...\n",
            "✅ Done.\n"
          ]
        }
      ],
      "source": [
        "import os\n",
        "import urllib.request\n",
        "import tarfile\n",
        "\n",
        "def download_cifar10():\n",
        "    url = 'https://www.cs.toronto.edu/~kriz/cifar-10-python.tar.gz'\n",
        "    filename = 'cifar-10-python.tar.gz'\n",
        "    folder = 'cifar-10-batches-py'\n",
        "\n",
        "    if not os.path.exists(filename):\n",
        "        print(\"⏬ Downloading CIFAR-10...\")\n",
        "        urllib.request.urlretrieve(url, filename)\n",
        "\n",
        "    if not os.path.exists(folder):\n",
        "        print(\"📦 Extracting CIFAR-10...\")\n",
        "        with tarfile.open(filename, 'r:gz') as tar:\n",
        "            tar.extractall()\n",
        "    print(\"✅ Done.\")\n",
        "\n",
        "download_cifar10()"
      ]
    },
    {
      "cell_type": "code",
      "execution_count": null,
      "metadata": {
        "colab": {
          "base_uri": "https://localhost:8080/"
        },
        "id": "LBPKKMx10e2O",
        "outputId": "0359527f-1dd2-4c36-9272-c4ce314bd533"
      },
      "outputs": [
        {
          "output_type": "stream",
          "name": "stdout",
          "text": [
            "✅ CIFAR-10 loaded: (50000, 3, 32, 32) (50000,)\n"
          ]
        }
      ],
      "source": [
        "import pickle\n",
        "import numpy as np\n",
        "\n",
        "def load_batch(file_path):\n",
        "    with open(file_path, 'rb') as f:\n",
        "        data = pickle.load(f, encoding='bytes')\n",
        "        images = data[b'data']\n",
        "        labels = data[b'labels']\n",
        "        images = images.reshape(-1, 3, 32, 32)  # N x C x H x W\n",
        "        return images, labels\n",
        "\n",
        "def load_cifar10_data():\n",
        "    base_dir = 'cifar-10-batches-py'\n",
        "    X_train, y_train = [], []\n",
        "\n",
        "    # Load 5 training batches\n",
        "    for i in range(1, 6):\n",
        "        images, labels = load_batch(f'{base_dir}/data_batch_{i}')\n",
        "        X_train.append(images)\n",
        "        y_train += labels\n",
        "\n",
        "    # Load test batch\n",
        "    X_test, y_test = load_batch(f'{base_dir}/test_batch')\n",
        "\n",
        "    # Convert to numpy arrays\n",
        "    X_train = np.concatenate(X_train, axis=0)\n",
        "    y_train = np.array(y_train)\n",
        "    X_test = np.array(X_test)\n",
        "    y_test = np.array(y_test)\n",
        "\n",
        "    return X_train, y_train, X_test, y_test\n",
        "\n",
        "X_train, y_train, X_test, y_test = load_cifar10_data()\n",
        "print(\"✅ CIFAR-10 loaded:\", X_train.shape, y_train.shape)\n"
      ]
    },
    {
      "cell_type": "code",
      "execution_count": null,
      "metadata": {
        "colab": {
          "base_uri": "https://localhost:8080/"
        },
        "id": "QtC3WN7t0e2O",
        "outputId": "0fdda13d-d020-4a9b-cf8a-71b0fe9d3ca8"
      },
      "outputs": [
        {
          "output_type": "stream",
          "name": "stdout",
          "text": [
            "✅ Normalized CIFAR-10 data: (50000, 3, 32, 32) (50000,)\n",
            "✅ Normalized CIFAR-10 test data: (10000, 3, 32, 32) (10000,)\n"
          ]
        }
      ],
      "source": [
        "# Đưa giá trị pixel về [0, 1]\n",
        "X_train = X_train.astype(np.float32) / 255.0\n",
        "X_test = X_test.astype(np.float32) / 255.0\n",
        "print(\"✅ Normalized CIFAR-10 data:\", X_train.shape, y_train.shape)\n",
        "print(\"✅ Normalized CIFAR-10 test data:\", X_test.shape, y_test.shape)"
      ]
    },
    {
      "cell_type": "code",
      "execution_count": null,
      "metadata": {
        "colab": {
          "base_uri": "https://localhost:8080/"
        },
        "id": "D6opRpS80e2P",
        "outputId": "a6581413-65b4-4c10-83cb-866394cc515c"
      },
      "outputs": [
        {
          "output_type": "stream",
          "name": "stdout",
          "text": [
            "✅ One-hot encoded CIFAR-10 labels: (50000, 10)\n",
            "✅ One-hot encoded CIFAR-10 test labels: (10000, 10)\n"
          ]
        }
      ],
      "source": [
        "def one_hot(labels, num_classes=10):\n",
        "    return np.eye(num_classes)[labels]\n",
        "\n",
        "y_train_oh = one_hot(y_train)\n",
        "y_test_oh = one_hot(y_test)\n",
        "print(\"✅ One-hot encoded CIFAR-10 labels:\", y_train_oh.shape)\n",
        "print(\"✅ One-hot encoded CIFAR-10 test labels:\", y_test_oh.shape)"
      ]
    },
    {
      "cell_type": "code",
      "execution_count": null,
      "metadata": {
        "id": "DFx_ZzXA0e2P"
      },
      "outputs": [],
      "source": [
        "# in các ảnh ngẫu nhiên\n",
        "import matplotlib.pyplot as plt\n",
        "import random\n",
        "\n",
        "def show_random_images(X, y, num_images=5):\n",
        "    plt.figure(figsize=(10, 2))\n",
        "    for i in range(num_images):\n",
        "        idx = random.randint(0, len(X) - 1)\n",
        "        plt.subplot(1, num_images, i + 1)\n",
        "        plt.imshow(X[idx].transpose(1, 2, 0))  # Chuyển đổi từ (C, H, W) sang (H, W, C)\n",
        "        plt.title(f\"Label: {y[idx]}\")\n",
        "        plt.axis('off')\n",
        "    plt.show()"
      ]
    },
    {
      "cell_type": "code",
      "execution_count": null,
      "metadata": {
        "colab": {
          "base_uri": "https://localhost:8080/",
          "height": 192
        },
        "id": "lyjP2xoP0e2Q",
        "outputId": "f358962a-6b05-4730-e3ad-d9b70adf525d"
      },
      "outputs": [
        {
          "output_type": "display_data",
          "data": {
            "text/plain": [
              "<Figure size 1000x200 with 5 Axes>"
            ],
            "image/png": "[encoded data removed]"
          },
          "metadata": {}
        }
      ],
      "source": [
        "show_random_images(X_train, y_train)"
      ]
    },
    {
      "cell_type": "code",
      "execution_count": null,
      "metadata": {
        "colab": {
          "base_uri": "https://localhost:8080/"
        },
        "id": "qqfGMcEe0e2Q",
        "outputId": "98a67664-0292-4b70-e88f-5ec641d06e35"
      },
      "outputs": [
        {
          "output_type": "stream",
          "name": "stdout",
          "text": [
            "📂 Current directory tree:\n",
            "./\n",
            "    cifar-10-python.tar.gz\n",
            "    .config/\n",
            "        config_sentinel\n",
            "        default_configs.db\n",
            "        active_config\n",
            "        hidden_gcloud_config_universe_descriptor_data_cache_configs.db\n",
            "        gce\n",
            "        .last_update_check.json\n",
            "        .last_survey_prompt.yaml\n",
            "        .last_opt_in_prompt.yaml\n",
            "        configurations/\n",
            "            config_default\n",
            "        logs/\n",
            "            2025.04.24/\n",
            "                18.19.38.522066.log\n",
            "                18.19.17.922226.log\n",
            "                18.19.48.089267.log\n",
            "                18.19.56.709493.log\n",
            "                18.19.46.929623.log\n",
            "                18.19.57.353004.log\n",
            "    cifar-10-batches-py/\n",
            "        batches.meta\n",
            "        data_batch_5\n",
            "        data_batch_4\n",
            "        data_batch_2\n",
            "        test_batch\n",
            "        readme.html\n",
            "        data_batch_3\n",
            "        data_batch_1\n",
            "    sample_data/\n",
            "        anscombe.json\n",
            "        README.md\n",
            "        mnist_test.csv\n",
            "        mnist_train_small.csv\n",
            "        california_housing_train.csv\n",
            "        california_housing_test.csv\n"
          ]
        }
      ],
      "source": [
        "# in cây thư mục hiện tại\n",
        "import os\n",
        "import json\n",
        "import datetime\n",
        "import shutil\n",
        "import zipfile\n",
        "import re\n",
        "\n",
        "def print_directory_tree(path='.'):\n",
        "    for root, dirs, files in os.walk(path):\n",
        "        level = root.replace(path, '').count(os.sep)\n",
        "        indent = ' ' * 4 * (level)\n",
        "        print(f\"{indent}{os.path.basename(root)}/\")\n",
        "        subindent = ' ' * 4 * (level + 1)\n",
        "        for f in files:\n",
        "            print(f\"{subindent}{f}\")\n",
        "\n",
        "print(\"📂 Current directory tree:\")\n",
        "print_directory_tree()"
      ]
    },
    {
      "cell_type": "markdown",
      "metadata": {
        "id": "UXcV4WQl0e2R"
      },
      "source": [
        "### **Hàm conv2d()**"
      ]
    },
    {
      "cell_type": "code",
      "execution_count": null,
      "metadata": {
        "id": "QXlNdsUO0e2R"
      },
      "outputs": [],
      "source": [
        "def conv2d(X, K, stride=1, padding=1):\n",
        "    \"\"\"\n",
        "    X: Input image, shape (C_in, H, W)\n",
        "    K: Filter weights, shape (C_out, C_in, kH, kW)\n",
        "    stride: bước di chuyển\n",
        "    padding: số pixel pad xung quanh ảnh\n",
        "\n",
        "    Trả về: Feature map, shape (C_out, H_out, W_out)\n",
        "    \"\"\"\n",
        "    C_in, H, W = X.shape\n",
        "    C_out, _, kH, kW = K.shape\n",
        "\n",
        "    # Pad input nếu cần\n",
        "    if padding > 0:\n",
        "        X_padded = np.pad(X, ((0,0), (padding,padding), (padding,padding)), mode='constant')\n",
        "    else:\n",
        "        X_padded = X\n",
        "\n",
        "    H_out = (H + 2*padding - kH) // stride + 1\n",
        "    W_out = (W + 2*padding - kW) // stride + 1\n",
        "    Y = np.zeros((C_out, H_out, W_out), dtype=np.float32)\n",
        "\n",
        "    for cout in range(C_out):\n",
        "        for i in range(H_out):\n",
        "            for j in range(W_out):\n",
        "                for cin in range(C_in):\n",
        "                    h_start = i * stride\n",
        "                    w_start = j * stride\n",
        "                    region = X_padded[cin, h_start:h_start+kH, w_start:w_start+kW]\n",
        "                    Y[cout, i, j] += np.sum(region * K[cout, cin])\n",
        "\n",
        "    return Y"
      ]
    },
    {
      "cell_type": "code",
      "execution_count": null,
      "metadata": {
        "id": "LWHVXgmo0e2S"
      },
      "outputs": [],
      "source": [
        "# Test hàm conv2d\n",
        "X = np.random.rand(3, 32, 32)         # Input: 3 channels (RGB), 32x32\n",
        "K = np.random.rand(64, 3, 3, 3)       # 64 filters, mỗi filter 3x3x3\n",
        "\n",
        "out = conv2d(X, K, stride=1, padding=1)\n",
        "print(\"✅ Conv2D output:\", out.shape)  # Kết quả: (64, 32, 32)"
      ]
    },
    {
      "cell_type": "code",
      "execution_count": null,
      "metadata": {
        "id": "eMi2UvNq0e2S"
      },
      "outputs": [],
      "source": [
        "# %pip install numba"
      ]
    },
    {
      "cell_type": "code",
      "execution_count": null,
      "metadata": {
        "id": "ptsRq0__0e2T"
      },
      "outputs": [],
      "source": [
        "from numba import njit\n",
        "\n",
        "@njit\n",
        "def pad2d_manual(X, pad):\n",
        "    C, H, W = X.shape\n",
        "    X_padded = np.zeros((C, H + 2*pad, W + 2*pad), dtype=X.dtype)\n",
        "    for c in range(C):\n",
        "        for i in range(H):\n",
        "            for j in range(W):\n",
        "                X_padded[c, i + pad, j + pad] = X[c, i, j]\n",
        "    return X_padded\n"
      ]
    },
    {
      "cell_type": "code",
      "execution_count": null,
      "metadata": {
        "id": "05qk19x90e2T"
      },
      "outputs": [],
      "source": [
        "@njit  # không dùng parallel để đảm bảo logic tuần tự\n",
        "def conv2d_fast(X, K, stride=1, padding=1):\n",
        "    C_in, H, W = X.shape\n",
        "    C_out, _, kH, kW = K.shape\n",
        "\n",
        "    if padding > 0:\n",
        "        X_padded = pad2d_manual(X, padding)\n",
        "    else:\n",
        "        X_padded = X\n",
        "\n",
        "    H_out = (H + 2*padding - kH) // stride + 1\n",
        "    W_out = (W + 2*padding - kW) // stride + 1\n",
        "    Y = np.zeros((C_out, H_out, W_out), dtype=np.float32)\n",
        "\n",
        "    for cout in range(C_out):\n",
        "        for i in range(H_out):\n",
        "            for j in range(W_out):\n",
        "                for cin in range(C_in):\n",
        "                    for u in range(kH):\n",
        "                        for v in range(kW):\n",
        "                            Y[cout, i, j] += X_padded[cin, i*stride + u, j*stride + v] * K[cout, cin, u, v]\n",
        "    return Y\n"
      ]
    },
    {
      "cell_type": "markdown",
      "metadata": {
        "id": "3fvgOi8R0e2U"
      },
      "source": [
        "### **Hàm ReLU**"
      ]
    },
    {
      "cell_type": "code",
      "execution_count": null,
      "metadata": {
        "id": "wuPBfp4q0e2U"
      },
      "outputs": [],
      "source": [
        "def relu(X):\n",
        "    return np.maximum(0, X)"
      ]
    },
    {
      "cell_type": "markdown",
      "metadata": {
        "id": "LSNLCNFa0e2U"
      },
      "source": [
        "### **Max Pooling 2x2**"
      ]
    },
    {
      "cell_type": "code",
      "execution_count": null,
      "metadata": {
        "id": "hSZrOj4b0e2U"
      },
      "outputs": [],
      "source": [
        "def max_pool2x2(X):\n",
        "    \"\"\"\n",
        "    X: Input feature map, shape (C, H, W)\n",
        "    Returns: Downsampled feature map, shape (C, H//2, W//2)\n",
        "    \"\"\"\n",
        "    C, H, W = X.shape\n",
        "    out_H, out_W = H // 2, W // 2\n",
        "    pooled = np.zeros((C, out_H, out_W), dtype=np.float32)\n",
        "\n",
        "    for c in range(C):\n",
        "        for i in range(out_H):\n",
        "            for j in range(out_W):\n",
        "                region = X[c, i*2:i*2+2, j*2:j*2+2]\n",
        "                pooled[c, i, j] = np.max(region)\n",
        "    return pooled"
      ]
    },
    {
      "cell_type": "markdown",
      "metadata": {
        "id": "7CKz7dtx0e2V"
      },
      "source": [
        "### **Block 1 + 2 + 3**"
      ]
    },
    {
      "cell_type": "code",
      "execution_count": null,
      "metadata": {
        "id": "5N8ve2Uw0e2V"
      },
      "outputs": [],
      "source": [
        "%%time\n",
        "# Khởi tạo ngẫu nhiên các filter Conv\n",
        "np.random.seed(42)\n",
        "K1 = np.random.randn(64, 3, 3, 3) * 0.1  # 64 filters, 3x3, input 3 channels\n",
        "K2 = np.random.randn(64, 64, 3, 3) * 0.1  # 64 filters, 3x3, input 64 channels\n",
        "\n",
        "def block1(X):\n",
        "    out = conv2d(X, K1, stride=1, padding=1)\n",
        "    out = relu(out)\n",
        "    out = conv2d(out, K2, stride=1, padding=1)\n",
        "    out = relu(out)\n",
        "    out = max_pool2x2(out)\n",
        "    return out\n",
        "\n",
        "# Thử với ảnh đầu tiên\n",
        "out_block1 = block1(X_train[0])\n",
        "print(\"✅ Output Block 1:\", out_block1.shape)\n"
      ]
    },
    {
      "cell_type": "code",
      "execution_count": null,
      "metadata": {
        "id": "9gY0NVOY0e2V"
      },
      "outputs": [],
      "source": [
        "# Khởi tạo ngẫu nhiên các filter Conv\n",
        "# Block 1\n",
        "np.random.seed(42)\n",
        "K1 = np.random.randn(64, 3, 3, 3) * 0.1  # 64 filters, 3x3, input 3 channels\n",
        "K2 = np.random.randn(64, 64, 3, 3) * 0.1  # 64 filters, 3x3, input 64 channels\n",
        "\n",
        "# Block 2\n",
        "K3 = np.random.randn(128, 64, 3, 3) * 0.1  # 128 filters, 3x3, input 64 channels\n",
        "K4 = np.random.randn(128, 128, 3, 3) * 0.1  # 128 filters, 3x3, input 128 channels\n",
        "\n",
        "# Block 3\n",
        "K5 = np.random.randn(256, 128, 3, 3) * 0.1  # 256 filters, 3x3, input 128 channels\n",
        "K6 = np.random.randn(256, 256, 3, 3) * 0.1  # 256 filters, 3x3, input 256 channels\n",
        "\n",
        "def block1_fast(X):\n",
        "    out = conv2d_fast(X, K1, stride=1, padding=1)\n",
        "    out = relu(out)\n",
        "    out = conv2d_fast(out, K2, stride=1, padding=1)\n",
        "    out = relu(out)\n",
        "    out = max_pool2x2(out)\n",
        "    return out\n",
        "\n",
        "def block2_fast(X):\n",
        "    out = conv2d_fast(X, K3, stride=1, padding=1)\n",
        "    out = relu(out)\n",
        "    out = conv2d_fast(out, K4, stride=1, padding=1)\n",
        "    out = relu(out)\n",
        "    out = max_pool2x2(out)\n",
        "    return out\n",
        "\n",
        "def block3_fast(X):\n",
        "    out = conv2d_fast(X, K5, stride=1, padding=1)\n",
        "    out = relu(out)\n",
        "    out = conv2d_fast(out, K6, stride=1, padding=1)\n",
        "    out = relu(out)\n",
        "    out = max_pool2x2(out)\n",
        "    return out\n"
      ]
    },
    {
      "cell_type": "code",
      "execution_count": null,
      "metadata": {
        "id": "4ZIUf3Lp0e2W"
      },
      "outputs": [],
      "source": [
        "%%time\n",
        "# Thử với ảnh đầu tiên\n",
        "out_block1_fast = block1_fast(X_train[0])\n",
        "print(\"✅ Output Block 1 (fast):\", out_block1_fast.shape)\n",
        "out_block2_fast = block2_fast(out_block1_fast)\n",
        "print(\"✅ Output Block 2 (fast):\", out_block2_fast.shape)\n",
        "out_block3_fast = block3_fast(out_block2_fast)\n",
        "print(\"✅ Output Block 3 (fast):\", out_block3_fast.shape)"
      ]
    },
    {
      "cell_type": "code",
      "execution_count": null,
      "metadata": {
        "id": "kTlonp2B0e2W"
      },
      "outputs": [],
      "source": [
        "# Flatten: (256, 4, 4) → 256*4*4 = 4096 đầu vào\n",
        "W1 = np.random.randn(512, 256 * 4 * 4) * 0.1  # FC: 4096 → 512\n",
        "b1 = np.zeros((512,))\n",
        "\n",
        "W2 = np.random.randn(10, 512) * 0.1  # FC: 512 → 10\n",
        "b2 = np.zeros((10,))"
      ]
    },
    {
      "cell_type": "code",
      "execution_count": null,
      "metadata": {
        "id": "Zk1R0zZ_0e2W"
      },
      "outputs": [],
      "source": [
        "def fc_forward(X, W, b):\n",
        "    return np.dot(W, X) + b\n",
        "\n",
        "def softmax(x):\n",
        "    e_x = np.exp(x - np.max(x))  # Tránh overflow\n",
        "    return e_x / np.sum(e_x)\n"
      ]
    },
    {
      "cell_type": "code",
      "execution_count": null,
      "metadata": {
        "id": "yrLVNMh80e2X"
      },
      "outputs": [],
      "source": [
        "def forward(X):\n",
        "    out = block1_fast(X)\n",
        "    out = block2_fast(out)\n",
        "    out = block3_fast(out)\n",
        "\n",
        "    out = out.reshape(-1)  # Flatten: (256,4,4) -> (4096,)\n",
        "\n",
        "    out = fc_forward(out, W1, b1)\n",
        "    out = relu(out)\n",
        "\n",
        "    out = fc_forward(out, W2, b2)\n",
        "    out = softmax(out)\n",
        "\n",
        "    return out\n"
      ]
    },
    {
      "cell_type": "code",
      "execution_count": null,
      "metadata": {
        "id": "Vp9MoBHs0e2X"
      },
      "outputs": [],
      "source": [
        "%%time\n",
        "# Thử với ảnh đầu tiên\n",
        "out = forward(X_train[0])\n",
        "print(\"✅ Output of the network:\", out.shape)\n",
        "print(\"✅ Predicted class:\", np.argmax(out))\n",
        "print(\"✅ True class:\", y_train[0])\n"
      ]
    },
    {
      "cell_type": "code",
      "execution_count": null,
      "metadata": {
        "id": "MblkCUAW0e2X"
      },
      "outputs": [],
      "source": [
        "def cross_entropy_loss(y_pred, y_true):\n",
        "    return -np.log(y_pred[y_true] + 1e-9)  # Tránh log(0)\n",
        "\n",
        "def accuracy(y_pred, y_true):\n",
        "    return int(np.argmax(y_pred) == y_true)\n"
      ]
    },
    {
      "cell_type": "code",
      "source": [
        "def softmax_gradient(y_pred, y_true):\n",
        "    return softmax(y_pred) - y_true\n",
        "\n",
        "def gradient_weights(X,y,y_true):\n",
        "    return X.T @ softmax_gradient(y,y_true)\n",
        "\n",
        "def gradient_ReLU(X,y,y_true):\n",
        "    A = X\n",
        "    A[A < 0] = 0\n",
        "    A[A > 0] = 1\n",
        "    return A * softmax_gradient(y,y_true)\n",
        "\n",
        "def gradient_Convolution(X,y,y_true):\n",
        "    pass\n",
        "\n",
        "def gradient_descent(W, b, grad_W, grad_b, learning_rate):\n",
        "    pass"
      ],
      "metadata": {
        "id": "nUDELtA3M8By"
      },
      "execution_count": null,
      "outputs": []
    },
    {
      "cell_type": "code",
      "execution_count": null,
      "metadata": {
        "id": "GxXHaGG00e2X"
      },
      "outputs": [],
      "source": [
        "y_pred = forward(X_train[0])\n",
        "loss = cross_entropy_loss(y_pred, y_train[0])\n",
        "acc = accuracy(y_pred, y_train[0])\n",
        "\n",
        "print(\"📉 Loss:\", loss)\n",
        "print(\"🎯 Accuracy:\", acc)\n"
      ]
    }
  ],
  "metadata": {
    "kernelspec": {
      "display_name": "Python 3",
      "language": "python",
      "name": "python3"
    },
    "language_info": {
      "codemirror_mode": {
        "name": "ipython",
        "version": 3
      },
      "file_extension": ".py",
      "mimetype": "text/x-python",
      "name": "python",
      "nbconvert_exporter": "python",
      "pygments_lexer": "ipython3",
      "version": "3.12.10"
    },
    "colab": {
      "provenance": [],
      "include_colab_link": true
    }
  },
  "nbformat": 4,
  "nbformat_minor": 0
}