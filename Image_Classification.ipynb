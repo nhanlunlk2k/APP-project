{
 "cells": [
  {
   "cell_type": "markdown",
   "metadata": {},
   "source": [
    "# **Đồ án môn học**\n",
    "## Môn: Lập trình song song ứng dụng\n",
    "### Lớp CQ2021/21 - Nhóm 05\n",
    "#### Thành viên:\n",
    "| Họ và tên             | MSSV |\n",
    "| :-----------          |     :----:|\n",
    "| Diệp Đại Thiện Nhân | 18120491  |\n",
    "| Hoàng Trung Nam  | 21120290 |\n"
   ]
  },
  {
   "cell_type": "markdown",
   "metadata": {},
   "source": [
    "# **Tổng quan đồ án**\n",
    "\n",
    "- Nhóm quyết định thử sức với VGG.\n",
    "\n",
    "- VGG là một kiến trúc CNN sâu được giới thiệu bởi nhóm VGG (Visual Geometry Group) thuộc Đại học Oxford năm 2014. Kiến trúc này nổi bật bởi việc sử dụng nhiều lớp convolution 3x3 liên tiếp thay vì một lớp convolution lớn (vd: 5x5 hay 7x7), nhằm tăng khả năng học đặc trưng và giữ kích thước receptive field ổn định.\n",
    "\n",
    "- Hai phiên bản phổ biến:\n",
    "  - VGG-16: 16 lớp có trọng số (13 conv + 3 FC).\n",
    "  - VGG-19: 19 lớp có trọng số (16 conv + 3 FC).\n",
    "\n",
    "- **Input của CIFAR-10** là `32x32x3`, nhỏ hơn rất nhiều so với `224x224x3` của VGG gốc.\n",
    "\n",
    "Vậy nên, khi áp dụng VGG cho CIFAR-10, ta cần **giảm số lượng layer** hoặc **điều chỉnh input size** như sau:"
   ]
  },
  {
   "cell_type": "markdown",
   "metadata": {},
   "source": [
    "## **Kiến trúc mô hình cụ thể**\n",
    "\n",
    "- **Input Layer**  \n",
    "  - 32×32×3 (RGB)\n",
    "\n",
    "- **Block 1**  \n",
    "  - Conv3×3, 64 filters + ReLU  \n",
    "  - Conv3×3, 64 filters + ReLU  \n",
    "  - MaxPool 2×2\n",
    "\n",
    "- **Block 2**  \n",
    "  - Conv3×3, 128 filters + ReLU  \n",
    "  - Conv3×3, 128 filters + ReLU  \n",
    "  - MaxPool 2×2\n",
    "\n",
    "- **Block 3**  \n",
    "  - Conv3×3, 256 filters + ReLU  \n",
    "  - Conv3×3, 256 filters + ReLU  \n",
    "  - MaxPool 2×2\n",
    "\n",
    "- **Fully Connected**  \n",
    "  - FC 512 + ReLU  \n",
    "  - FC 10 + Softmax\n",
    "\n",
    "- **Optimization**  \n",
    "  - Loss: Cross‑Entropy  \n",
    "  - Optimizer: SGD/Adam  \n",
    "  - Parallelization: Viết bằng Numpy → tối ưu với Numba (`@cuda.jit`)\n",
    "\n",
    "Kiến trúc VGG‑like này giữ tinh thần “nhiều conv 3×3” của VGG gốc nhưng thu gọn cho phù hợp với kích thước ảnh 32×32 và dataset CIFAR‑10."
   ]
  },
  {
   "cell_type": "markdown",
   "metadata": {},
   "source": [
    "## **Dataset**\n",
    "\n",
    "- **CIFAR-10**:\n",
    "  - 60.000 ảnh màu 32×32 thuộc 10 lớp.\n",
    "\n",
    "  - 50.000 ảnh train, 10.000 ảnh test.\n",
    "\n",
    "  - Link: https://www.cs.toronto.edu/~kriz/cifar.html"
   ]
  },
  {
   "cell_type": "markdown",
   "metadata": {},
   "source": [
    "## **Nội dung đã hoàn thành**"
   ]
  },
  {
   "cell_type": "markdown",
   "metadata": {},
   "source": []
  },
  {
   "cell_type": "markdown",
   "metadata": {},
   "source": [
    "## **Cài đặt hàm tuần tự**"
   ]
  },
  {
   "cell_type": "markdown",
   "metadata": {},
   "source": [
    "### **Ý tưởng**\n",
    "\n",
    "#### 📥 Input Layer\n",
    "\n",
    "- Kích thước ảnh: **32 × 32 × 3 (RGB)**  \n",
    "- Sau mỗi layer, kích thước thay đổi tùy theo padding và pooling.\n",
    "\n",
    "---\n",
    "\n",
    "#### 🧠 1. Convolutional Layer (3×3)\n",
    "\n",
    "**Công thức:**\n",
    "\n",
    "$$\n",
    "Y[i,j,cout] = \\sum_{u=0}^{2} \\sum_{v=0}^{2} \\sum_{cin=0}^{C_{in}-1} K[u,v,cin,cout] \\cdot X[i+u, j+v, cin]\n",
    "$$\n",
    "\n",
    "**Chú thích biến:**\n",
    "- $ X $ : ảnh đầu vào, kích thước (H, W, Cin)\n",
    "- $K$: kernel/lọc, kích thước (3, 3, Cin, Cout)\n",
    "- $Y$: ảnh đầu ra sau convolution, kích thước (H', W', Cout)\n",
    "- $i, j$: vị trí không gian\n",
    "- $u, v$: tọa độ trong kernel\n",
    "- $cin, cout$: chỉ số kênh đầu vào và đầu ra\n",
    "\n",
    "**Song song hóa:**  \n",
    "✔ Mỗi phần tử $Y[i,j,cout]$ độc lập → triển khai bằng `@cuda.jit` (Numba)\n",
    "\n",
    "---\n",
    "\n",
    "#### ⚡ 2. Activation Layer (ReLU)\n",
    "\n",
    "**Công thức:**\n",
    "\n",
    "$$\n",
    "A[i,j,c] = \\max(0, Z[i,j,c])\n",
    "$$\n",
    "\n",
    "**Chú thích biến:**\n",
    "- $Z$ : đầu ra từ convolution\n",
    "- $A$: đầu ra sau kích hoạt ReLU\n",
    "\n",
    "**Song song hóa:**  \n",
    "✔ Mỗi phần tử độc lập → dùng `@vectorize` hoặc `@cuda.jit`\n",
    "\n",
    "---\n",
    "\n",
    "#### 🌊 3. Max Pooling Layer (2×2)\n",
    "\n",
    "**Công thức:**\n",
    "\n",
    "$$\n",
    "P[i,j,c] = \\max \\begin{Bmatrix}\n",
    "X[2i, 2j, c], & X[2i+1, 2j, c], \\\\\n",
    "X[2i, 2j+1, c], & X[2i+1, 2j+1, c]\n",
    "\\end{Bmatrix}\n",
    "$$\n",
    "\n",
    "**Chú thích biến:**\n",
    "- $X$: đầu vào trước pooling\n",
    "- $P$: đầu ra sau pooling\n",
    "- $i, j$: vị trí trên ảnh pooling\n",
    "- $c$ : kênh màu\n",
    "\n",
    "**Song song hóa:**  \n",
    "✔ Mỗi vùng pooling độc lập → dùng `@cuda.jit`\n",
    "\n",
    "---\n",
    "\n",
    "#### 🧩 4. Fully Connected Layer (FC)\n",
    "\n",
    "**Công thức:**\n",
    "\n",
    "$$\n",
    "y_k = \\sum_{d=0}^{D-1} W[d,k] \\cdot x_d + b_k\n",
    "$$\n",
    "\n",
    "**Chú thích biến:**\n",
    "- $x$: vector đầu vào đã flatten (sau các conv)\n",
    "- $W$: ma trận trọng số FC (D, K)\n",
    "- $b$: bias\n",
    "- $y$: output vector\n",
    "\n",
    "**Song song hóa:**  \n",
    "✔ Mỗi $y_k$ độc lập → dùng `@cuda.jit` hoặc `@njit(parallel=True)`\n",
    "\n",
    "---\n",
    "\n",
    "#### 🔥 5. Softmax + Cross-Entropy Loss\n",
    "\n",
    "**Softmax:**\n",
    "\n",
    "$$\n",
    "p_i = \\frac{e^{y_i}}{\\sum_j e^{y_j}}\n",
    "$$\n",
    "\n",
    "**Loss:**\n",
    "\n",
    "$$\n",
    "L = -\\sum_i t_i \\cdot \\log(p_i)\n",
    "$$\n",
    "\n",
    "**Chú thích biến:**\n",
    "- $y_i$: giá trị đầu ra từ FC\n",
    "- $p_i$: xác suất sau softmax\n",
    "- $t_i$: nhãn thật (one-hot)\n",
    "- $L$: hàm mất mát\n",
    "\n",
    "**Song song hóa:**  \n",
    "✘ Không cần, tính nhẹ, có thể xử lý trên CPU\n",
    "\n",
    "---\n",
    "\n",
    "#### 🔁 6. Backpropagation + Weight Update\n",
    "\n",
    "##### Gradient của Softmax + CrossEntropy:\n",
    "\n",
    "$$\n",
    "\\frac{\\partial L}{\\partial y_i} = p_i - t_i\n",
    "$$\n",
    "\n",
    "---\n",
    "\n",
    "##### Gradient của FC:\n",
    "\n",
    "$$\n",
    "\\frac{\\partial L}{\\partial W[d,k]} = x_d \\cdot \\frac{\\partial L}{\\partial y_k}\n",
    "\\quad ; \\quad\n",
    "\\frac{\\partial L}{\\partial b_k} = \\frac{\\partial L}{\\partial y_k}\n",
    "$$\n",
    "\n",
    "**Song song hóa:** ✔ từng phần tử độc lập → `@cuda.jit`\n",
    "\n",
    "---\n",
    "\n",
    "##### Gradient của ReLU:\n",
    "\n",
    "$$\n",
    "\\frac{\\partial L}{\\partial Z[i,j,c]} = \n",
    "\\begin{cases}\n",
    "\\frac{\\partial L}{\\partial A[i,j,c]}, & \\text{if } Z[i,j,c] > 0 \\\\\n",
    "0, & \\text{otherwise}\n",
    "\\end{cases}\n",
    "$$\n",
    "\n",
    "---\n",
    "\n",
    "##### Gradient của Convolution:\n",
    "\n",
    "$$\n",
    "\\frac{\\partial L}{\\partial K[u,v,cin,cout]} = \\sum_{i,j} \\frac{\\partial L}{\\partial Y[i,j,cout]} \\cdot X[i+u,j+v,cin]\n",
    "$$\n",
    "\n",
    "$$\n",
    "\\frac{\\partial L}{\\partial X[i,j,cin]} = \\sum_{u,v,cout} \\frac{\\partial L}{\\partial Y[i-u,j-v,cout]} \\cdot K[u,v,cin,cout]\n",
    "$$\n",
    "\n",
    "**Song song hóa:** ✔ nặng nhất → dùng `@cuda.jit` để tối ưu\n",
    "\n",
    "---\n",
    "\n",
    "#### ✅ Tóm tắt khả năng song song hóa\n",
    "\n",
    "| Lớp              | Cần song song | Ghi chú                                |\n",
    "|------------------|----------------|----------------------------------------|\n",
    "| Convolution       | ✅              | Tính toán nặng, phần tử độc lập         |\n",
    "| ReLU              | ✅              | Mỗi phần tử tính riêng được             |\n",
    "| Max Pooling       | ✅              | Mỗi vùng pooling độc lập               |\n",
    "| Fully Connected   | ✅              | Mỗi neuron đầu ra độc lập              |\n",
    "| Softmax + Loss    | ❌              | Tính nhẹ, xử lý CPU vẫn hiệu quả       |\n",
    "| Backpropagation   | ✅              | Các đạo hàm có thể tính độc lập        |\n",
    "\n"
   ]
  },
  {
   "cell_type": "markdown",
   "metadata": {},
   "source": [
    "### **Chuẩn bị dữ liệu**"
   ]
  },
  {
   "cell_type": "code",
   "execution_count": 6,
   "metadata": {},
   "outputs": [
    {
     "name": "stdout",
     "output_type": "stream",
     "text": [
      "⏬ Downloading CIFAR-10...\n",
      "📦 Extracting CIFAR-10...\n"
     ]
    },
    {
     "name": "stderr",
     "output_type": "stream",
     "text": [
      "C:\\Users\\WIN 10\\AppData\\Local\\Temp\\ipykernel_9612\\3000658681.py:17: DeprecationWarning: Python 3.14 will, by default, filter extracted tar archives and reject files or modify their metadata. Use the filter argument to control this behavior.\n",
      "  tar.extractall()\n"
     ]
    },
    {
     "name": "stdout",
     "output_type": "stream",
     "text": [
      "✅ Done.\n"
     ]
    }
   ],
   "source": [
    "import os\n",
    "import urllib.request\n",
    "import tarfile\n",
    "\n",
    "def download_cifar10():\n",
    "    url = 'https://www.cs.toronto.edu/~kriz/cifar-10-python.tar.gz'\n",
    "    filename = 'cifar-10-python.tar.gz'\n",
    "    folder = 'cifar-10-batches-py'\n",
    "\n",
    "    if not os.path.exists(filename):\n",
    "        print(\"⏬ Downloading CIFAR-10...\")\n",
    "        urllib.request.urlretrieve(url, filename)\n",
    "\n",
    "    if not os.path.exists(folder):\n",
    "        print(\"📦 Extracting CIFAR-10...\")\n",
    "        with tarfile.open(filename, 'r:gz') as tar:\n",
    "            tar.extractall()\n",
    "    print(\"✅ Done.\")\n",
    "\n",
    "download_cifar10()"
   ]
  },
  {
   "cell_type": "code",
   "execution_count": 10,
   "metadata": {},
   "outputs": [
    {
     "name": "stdout",
     "output_type": "stream",
     "text": [
      "✅ CIFAR-10 loaded: (50000, 3, 32, 32) (50000,)\n"
     ]
    }
   ],
   "source": [
    "import pickle\n",
    "import numpy as np\n",
    "\n",
    "def load_batch(file_path):\n",
    "    with open(file_path, 'rb') as f:\n",
    "        data = pickle.load(f, encoding='bytes')\n",
    "        images = data[b'data']\n",
    "        labels = data[b'labels']\n",
    "        images = images.reshape(-1, 3, 32, 32)  # N x C x H x W\n",
    "        return images, labels\n",
    "\n",
    "def load_cifar10_data():\n",
    "    base_dir = 'cifar-10-batches-py'\n",
    "    X_train, y_train = [], []\n",
    "\n",
    "    # Load 5 training batches\n",
    "    for i in range(1, 6):\n",
    "        images, labels = load_batch(f'{base_dir}/data_batch_{i}')\n",
    "        X_train.append(images)\n",
    "        y_train += labels\n",
    "\n",
    "    # Load test batch\n",
    "    X_test, y_test = load_batch(f'{base_dir}/test_batch')\n",
    "\n",
    "    # Convert to numpy arrays\n",
    "    X_train = np.concatenate(X_train, axis=0)\n",
    "    y_train = np.array(y_train)\n",
    "    X_test = np.array(X_test)\n",
    "    y_test = np.array(y_test)\n",
    "\n",
    "    return X_train, y_train, X_test, y_test\n",
    "\n",
    "X_train, y_train, X_test, y_test = load_cifar10_data()\n",
    "print(\"✅ CIFAR-10 loaded:\", X_train.shape, y_train.shape)\n"
   ]
  },
  {
   "cell_type": "code",
   "execution_count": 11,
   "metadata": {},
   "outputs": [
    {
     "name": "stdout",
     "output_type": "stream",
     "text": [
      "✅ Normalized CIFAR-10 data: (50000, 3, 32, 32) (50000,)\n",
      "✅ Normalized CIFAR-10 test data: (10000, 3, 32, 32) (10000,)\n"
     ]
    }
   ],
   "source": [
    "# Đưa giá trị pixel về [0, 1]\n",
    "X_train = X_train.astype(np.float32) / 255.0\n",
    "X_test = X_test.astype(np.float32) / 255.0\n",
    "print(\"✅ Normalized CIFAR-10 data:\", X_train.shape, y_train.shape)\n",
    "print(\"✅ Normalized CIFAR-10 test data:\", X_test.shape, y_test.shape)"
   ]
  },
  {
   "cell_type": "code",
   "execution_count": 12,
   "metadata": {},
   "outputs": [
    {
     "name": "stdout",
     "output_type": "stream",
     "text": [
      "✅ One-hot encoded CIFAR-10 labels: (50000, 10)\n",
      "✅ One-hot encoded CIFAR-10 test labels: (10000, 10)\n"
     ]
    }
   ],
   "source": [
    "def one_hot(labels, num_classes=10):\n",
    "    return np.eye(num_classes)[labels]\n",
    "\n",
    "y_train_oh = one_hot(y_train)\n",
    "y_test_oh = one_hot(y_test)\n",
    "print(\"✅ One-hot encoded CIFAR-10 labels:\", y_train_oh.shape)\n",
    "print(\"✅ One-hot encoded CIFAR-10 test labels:\", y_test_oh.shape)"
   ]
  },
  {
   "cell_type": "code",
   "execution_count": null,
   "metadata": {},
   "outputs": [
    {
     "data": {
      "image/png": "[encoded data removed]",
      "text/plain": [
       "<Figure size 1000x200 with 5 Axes>"
      ]
     },
     "metadata": {},
     "output_type": "display_data"
    }
   ],
   "source": [
    "# in các ảnh ngẫu nhiên\n",
    "import matplotlib.pyplot as plt\n",
    "import random\n",
    "\n",
    "def show_random_images(X, y, num_images=5):\n",
    "    plt.figure(figsize=(10, 2))\n",
    "    for i in range(num_images):\n",
    "        idx = random.randint(0, len(X) - 1)\n",
    "        plt.subplot(1, num_images, i + 1)\n",
    "        plt.imshow(X[idx].transpose(1, 2, 0))  # Chuyển đổi từ (C, H, W) sang (H, W, C)\n",
    "        plt.title(f\"Label: {y[idx]}\")\n",
    "        plt.axis('off')\n",
    "    plt.show()"
   ]
  },
  {
   "cell_type": "code",
   "execution_count": 20,
   "metadata": {},
   "outputs": [
    {
     "data": {
      "image/png": "[encoded data removed]",
      "text/plain": [
       "<Figure size 1000x200 with 5 Axes>"
      ]
     },
     "metadata": {},
     "output_type": "display_data"
    }
   ],
   "source": [
    "show_random_images(X_train, y_train)"
   ]
  },
  {
   "cell_type": "code",
   "execution_count": 23,
   "metadata": {},
   "outputs": [
    {
     "name": "stdout",
     "output_type": "stream",
     "text": [
      "📂 Current directory tree:\n",
      "./\n",
      "    app_group7.ipynb\n",
      "    cifar-10-python.tar.gz\n",
      "    Image_Classification.ipynb\n",
      "    README.md\n",
      "    .git/\n",
      "        COMMIT_EDITMSG\n",
      "        config\n",
      "        description\n",
      "        FETCH_HEAD\n",
      "        HEAD\n",
      "        index\n",
      "        ORIG_HEAD\n",
      "        packed-refs\n",
      "        hooks/\n",
      "            applypatch-msg.sample\n",
      "            commit-msg.sample\n",
      "            fsmonitor-watchman.sample\n",
      "            post-update.sample\n",
      "            pre-applypatch.sample\n",
      "            pre-commit.sample\n",
      "            pre-merge-commit.sample\n",
      "            pre-push.sample\n",
      "            pre-rebase.sample\n",
      "            pre-receive.sample\n",
      "            prepare-commit-msg.sample\n",
      "            push-to-checkout.sample\n",
      "            sendemail-validate.sample\n",
      "            update.sample\n",
      "        info/\n",
      "            exclude\n",
      "        logs/\n",
      "            HEAD\n",
      "            refs/\n",
      "                heads/\n",
      "                    main\n",
      "                    nam\n",
      "                remotes/\n",
      "                    origin/\n",
      "                        HEAD\n",
      "                        main\n",
      "                        nam\n",
      "        objects/\n",
      "            0e/\n",
      "                f8504b06a892562db38a0c120e9e92d760fc65\n",
      "            24/\n",
      "                639e0e7873c473a4e3a58853000835a7db9e5e\n",
      "            4b/\n",
      "                3f82c61707922e0920904105c24e591f15451e\n",
      "            75/\n",
      "                5edfef617859d07f61b381abd5a04cdcc88bd2\n",
      "                fee1bea326fa0b583bcc3d22e6fcc05181f872\n",
      "            79/\n",
      "                bf8161988ac80f26ae596c6ea7240abe214c6b\n",
      "            7e/\n",
      "                5a57fa88e76378fcffbda151424b1d5b71e6d4\n",
      "            82/\n",
      "                420da7ef106703fc8db52563cd216941a9e7c2\n",
      "            90/\n",
      "                c5365492dea3b3c855b2375f1de8588ac1bda4\n",
      "            a8/\n",
      "                057ee98207924b4926f82cd9a67ddd987023cc\n",
      "            ca/\n",
      "                2858ec00541db4aee0f113b0537e441c2da862\n",
      "            e0/\n",
      "                4dcd2597373cdd003854989ea712c29cded554\n",
      "            info/\n",
      "            pack/\n",
      "                pack-f2981570e88e9bd5e858267818b76b149629a302.idx\n",
      "                pack-f2981570e88e9bd5e858267818b76b149629a302.pack\n",
      "                pack-f2981570e88e9bd5e858267818b76b149629a302.rev\n",
      "        refs/\n",
      "            heads/\n",
      "                main\n",
      "                nam\n",
      "            remotes/\n",
      "                origin/\n",
      "                    HEAD\n",
      "                    main\n",
      "                    nam\n",
      "            tags/\n",
      "    cifar-10-batches-py/\n",
      "        batches.meta\n",
      "        data_batch_1\n",
      "        data_batch_2\n",
      "        data_batch_3\n",
      "        data_batch_4\n",
      "        data_batch_5\n",
      "        readme.html\n",
      "        test_batch\n"
     ]
    }
   ],
   "source": [
    "# in cây thư mục hiện tại\n",
    "import os\n",
    "import json\n",
    "import datetime\n",
    "import shutil\n",
    "import zipfile\n",
    "import re\n",
    "\n",
    "def print_directory_tree(path='.'):\n",
    "    for root, dirs, files in os.walk(path):\n",
    "        level = root.replace(path, '').count(os.sep)\n",
    "        indent = ' ' * 4 * (level)\n",
    "        print(f\"{indent}{os.path.basename(root)}/\")\n",
    "        subindent = ' ' * 4 * (level + 1)\n",
    "        for f in files:\n",
    "            print(f\"{subindent}{f}\")\n",
    "\n",
    "print(\"📂 Current directory tree:\")\n",
    "print_directory_tree()"
   ]
  }
 ],
 "metadata": {
  "kernelspec": {
   "display_name": "Python 3",
   "language": "python",
   "name": "python3"
  },
  "language_info": {
   "codemirror_mode": {
    "name": "ipython",
    "version": 3
   },
   "file_extension": ".py",
   "mimetype": "text/x-python",
   "name": "python",
   "nbconvert_exporter": "python",
   "pygments_lexer": "ipython3",
   "version": "3.12.10"
  }
 },
 "nbformat": 4,
 "nbformat_minor": 2
}
