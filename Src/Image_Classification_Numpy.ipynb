{
 "cells": [
  {
   "cell_type": "markdown",
   "id": "3ad2be86",
   "metadata": {},
   "source": [
    "## Phiên bản được viết bằng Numpy"
   ]
  },
  {
   "cell_type": "code",
   "execution_count": 3,
   "id": "179c739b",
   "metadata": {},
   "outputs": [],
   "source": [
    "import os\n",
    "import sys\n",
    "sys.path.append('Src')\n",
    "from Src import func as func\n",
    "\n",
    "import numpy as np\n",
    "import matplotlib.pyplot as plt\n",
    "\n",
    "from numpy.lib.stride_tricks import as_strided\n",
    "\n",
    "import random\n",
    "import math\n",
    "import time"
   ]
  },
  {
   "cell_type": "code",
   "execution_count": 2,
   "id": "d0afde48",
   "metadata": {},
   "outputs": [],
   "source": [
    "os.chdir(r'D:\\University\\Applied Parallel Programming\\APP-project')"
   ]
  },
  {
   "cell_type": "markdown",
   "id": "57dadcc2",
   "metadata": {},
   "source": [
    "### Class Conv2D"
   ]
  },
  {
   "cell_type": "code",
   "execution_count": 38,
   "id": "66937cd7",
   "metadata": {},
   "outputs": [],
   "source": [
    "def zero_pad(x, pad):\n",
    "    return np.pad(x, ((pad, pad), (pad, pad), (0, 0)), mode='constant')\n",
    "\n",
    "def im2col(x, kernel_size, stride):\n",
    "    H, W, C = x.shape\n",
    "    k = kernel_size\n",
    "    s = stride\n",
    "    out_h = (H - k) // s + 1\n",
    "    out_w = (W - k) // s + 1\n",
    "\n",
    "    cols = np.zeros((out_h * out_w, k * k * C))\n",
    "    for i in range(out_h):\n",
    "        for j in range(out_w):\n",
    "            patch = x[i*s:i*s+k, j*s:j*s+k, :].reshape(-1)\n",
    "            cols[i * out_w + j] = patch\n",
    "    return cols, out_h, out_w\n",
    "\n",
    "def col2im(dcols, input_shape, kernel_size, stride, padding):\n",
    "    H, W, C = input_shape\n",
    "    H_pad, W_pad = H + 2 * padding, W + 2 * padding\n",
    "    k = kernel_size\n",
    "    s = stride\n",
    "    out_h = (H_pad - k) // s + 1\n",
    "    out_w = (W_pad - k) // s + 1\n",
    "\n",
    "    dx_padded = np.zeros((H_pad, W_pad, C))\n",
    "\n",
    "    for i in range(out_h):\n",
    "        for j in range(out_w):\n",
    "            patch = dcols[i * out_w + j].reshape(k, k, C)\n",
    "            dx_padded[i*s:i*s+k, j*s:j*s+k, :] += patch\n",
    "\n",
    "    if padding > 0:\n",
    "        return dx_padded[padding:-padding, padding:-padding, :]\n",
    "    return dx_padded\n",
    "\n",
    "class Conv2D_Numpy:\n",
    "    def __init__(self, in_channels, out_channels, kernel_size=3, padding=0, stride=1):\n",
    "        self.in_channels = in_channels\n",
    "        self.out_channels = out_channels\n",
    "        self.kernel_size = kernel_size\n",
    "        self.padding = padding\n",
    "        self.stride = stride\n",
    "\n",
    "        limit = 0.1\n",
    "        self.kernels = np.random.uniform(-limit, limit, (out_channels, kernel_size * kernel_size * in_channels))\n",
    "        self.biases = np.random.uniform(-limit, limit, out_channels)\n",
    "\n",
    "        # 👇 Khởi tạo velocity cho momentum\n",
    "        self.v_kernels = np.zeros_like(self.kernels)\n",
    "        self.v_biases = np.zeros_like(self.biases)\n",
    "\n",
    "    def forward(self, input_data):\n",
    "        self.input_data = input_data\n",
    "        self.input_padded = zero_pad(input_data, self.padding)\n",
    "        self.cols, self.out_h, self.out_w = im2col(self.input_padded, self.kernel_size, self.stride)\n",
    "        out = np.dot(self.cols, self.kernels.T) + self.biases\n",
    "        return out.reshape(self.out_h, self.out_w, self.out_channels)\n",
    "\n",
    "    def backward(self, grad_output):\n",
    "        dout_flat = grad_output.reshape(-1, self.out_channels)\n",
    "        self.grad_kernels = np.dot(dout_flat.T, self.cols)\n",
    "        self.grad_biases = np.sum(dout_flat, axis=0)\n",
    "        dcols = np.dot(dout_flat, self.kernels)\n",
    "        grad_input = col2im(dcols, self.input_data.shape, self.kernel_size, self.stride, self.padding)\n",
    "        return grad_input\n",
    "\n",
    "    def step(self, lr, momentum=0.9):\n",
    "        # 👉 Momentum update\n",
    "        self.v_kernels = momentum * self.v_kernels - lr * self.grad_kernels\n",
    "        self.v_biases = momentum * self.v_biases - lr * self.grad_biases\n",
    "        self.kernels += self.v_kernels\n",
    "        self.biases += self.v_biases"
   ]
  },
  {
   "cell_type": "markdown",
   "id": "1db932e2",
   "metadata": {},
   "source": [
    "### **Class Relu**"
   ]
  },
  {
   "cell_type": "code",
   "execution_count": 16,
   "id": "0cc097ba",
   "metadata": {},
   "outputs": [],
   "source": [
    "class ReLU_Numpy:\n",
    "    def forward(self, x):\n",
    "        self.input = x  # Lưu lại input để backward\n",
    "        return np.maximum(0, x)\n",
    "\n",
    "    def backward(self, grad_output):\n",
    "        grad_input = grad_output * (self.input > 0)\n",
    "        return grad_input"
   ]
  },
  {
   "cell_type": "markdown",
   "id": "621f297d",
   "metadata": {},
   "source": [
    "### **Class MaxPool2D**"
   ]
  },
  {
   "cell_type": "code",
   "execution_count": 18,
   "id": "d5a20706",
   "metadata": {},
   "outputs": [],
   "source": [
    "class MaxPool2D_Numpy:\n",
    "    def __init__(self, kernel_size=2, stride=2):\n",
    "        self.kernel_size = kernel_size\n",
    "        self.stride = stride\n",
    "\n",
    "    def forward(self, x):\n",
    "        self.input = x\n",
    "        k = self.kernel_size\n",
    "        s = self.stride\n",
    "        H, W, C = x.shape\n",
    "\n",
    "        out_h = (H - k) // s + 1\n",
    "        out_w = (W - k) // s + 1\n",
    "\n",
    "        # Create a view of sliding windows\n",
    "        shape = (out_h, out_w, k, k, C)\n",
    "        strides = (x.strides[0]*s, x.strides[1]*s, x.strides[0], x.strides[1], x.strides[2])\n",
    "        windows = as_strided(x, shape=shape, strides=strides)\n",
    "\n",
    "        # Reshape and get max + argmax\n",
    "        flat_windows = windows.reshape(out_h, out_w, k*k, C)\n",
    "        self.max_indices = np.argmax(flat_windows, axis=2)\n",
    "        self.output = np.max(flat_windows, axis=2)\n",
    "        return self.output\n",
    "\n",
    "    def backward(self, d_out):\n",
    "        H, W, C = self.input.shape\n",
    "        k = self.kernel_size\n",
    "        s = self.stride\n",
    "        out_h, out_w, _ = d_out.shape\n",
    "\n",
    "        d_input = np.zeros_like(self.input)\n",
    "\n",
    "        # Tạo toàn bộ chỉ số i, j, c dưới dạng mảng\n",
    "        i_idx, j_idx = np.meshgrid(np.arange(out_h), np.arange(out_w), indexing='ij')\n",
    "        c_idx = np.arange(C)\n",
    "\n",
    "        # Flatten toàn bộ\n",
    "        i_idx = i_idx.reshape(-1)\n",
    "        j_idx = j_idx.reshape(-1)\n",
    "        max_idx = self.max_indices.reshape(-1, C)  # (N, C)\n",
    "        d_out_flat = d_out.reshape(-1, C)          # (N, C)\n",
    "\n",
    "        # Tính lại x/y từ max index\n",
    "        u = max_idx // k\n",
    "        v = max_idx % k\n",
    "\n",
    "        x_idx = i_idx[:, None] * s + u  # (N, C)\n",
    "        y_idx = j_idx[:, None] * s + v  # (N, C)\n",
    "\n",
    "        # Broadcast để gán giá trị d_out về đúng vị trí\n",
    "        for c in range(C):\n",
    "            np.add.at(d_input[:, :, c], (x_idx[:, c], y_idx[:, c]), d_out_flat[:, c])\n",
    "\n",
    "        return d_input"
   ]
  },
  {
   "cell_type": "markdown",
   "id": "acdf5601",
   "metadata": {},
   "source": [
    "### **Conv Block**"
   ]
  },
  {
   "cell_type": "code",
   "execution_count": 39,
   "id": "102bd969",
   "metadata": {},
   "outputs": [],
   "source": [
    "class ConvBlock_Numpy:\n",
    "    def __init__(self, in_channels, out_channels, num_convs=2, padding=0, stride=1):\n",
    "        self.convs = []\n",
    "        self.relus = []\n",
    "\n",
    "        for _ in range(num_convs):\n",
    "            conv = Conv2D_Numpy(in_channels, out_channels, kernel_size=3, padding=padding, stride=stride)\n",
    "            relu = ReLU_Numpy()\n",
    "            self.convs.append(conv)\n",
    "            self.relus.append(relu)\n",
    "            in_channels = out_channels  # chuẩn bị cho conv tiếp theo\n",
    "\n",
    "        self.pool = MaxPool2D_Numpy(kernel_size=2, stride=2)\n",
    "\n",
    "    def forward(self, input):\n",
    "        x = input\n",
    "        for conv, relu in zip(self.convs, self.relus):\n",
    "            x = conv.forward(x)\n",
    "            x = relu.forward(x)\n",
    "        x = self.pool.forward(x)\n",
    "        return x\n",
    "\n",
    "    def backward(self, d_out):\n",
    "        d_out = self.pool.backward(d_out)\n",
    "        for conv, relu in zip(reversed(self.convs), reversed(self.relus)):\n",
    "            d_out = relu.backward(d_out)\n",
    "            d_out = conv.backward(d_out)\n",
    "        return d_out\n",
    "\n",
    "    def step(self, learning_rate, momentum=0.9):\n",
    "        for conv in self.convs:\n",
    "            conv.step(learning_rate, momentum)\n"
   ]
  },
  {
   "cell_type": "markdown",
   "id": "76f8fd90",
   "metadata": {},
   "source": [
    "### **Flatten**"
   ]
  },
  {
   "cell_type": "code",
   "execution_count": 20,
   "id": "3d0129cf",
   "metadata": {},
   "outputs": [],
   "source": [
    "class Flatten_Numpy:\n",
    "    def forward(self, input):\n",
    "        self.input_shape = input.shape  # (H, W, C)\n",
    "        return input.reshape(-1)\n",
    "\n",
    "    def backward(self, grad_output):\n",
    "        return grad_output.reshape(self.input_shape)"
   ]
  },
  {
   "cell_type": "markdown",
   "id": "2f570905",
   "metadata": {},
   "source": [
    "### **Fully Connected Layer**"
   ]
  },
  {
   "cell_type": "code",
   "execution_count": 40,
   "id": "1ca7df3d",
   "metadata": {},
   "outputs": [],
   "source": [
    "class FullyConnected_Numpy:\n",
    "    def __init__(self, in_dim, out_dim):\n",
    "        limit = 0.01\n",
    "        self.W = np.random.uniform(-limit, limit, (in_dim, out_dim))\n",
    "        self.b = np.random.uniform(-limit, limit, out_dim)\n",
    "\n",
    "        # 👉 Thêm velocity cho momentum\n",
    "        self.v_W = np.zeros_like(self.W)\n",
    "        self.v_b = np.zeros_like(self.b)\n",
    "\n",
    "    def forward(self, x):\n",
    "        self.input = x\n",
    "        return np.dot(x, self.W) + self.b\n",
    "\n",
    "    def backward(self, grad_output):\n",
    "        self.grad_W = np.outer(self.input, grad_output)\n",
    "        self.grad_b = grad_output\n",
    "        grad_input = np.dot(grad_output, self.W.T)\n",
    "        return grad_input\n",
    "\n",
    "    def step(self, learning_rate, momentum=0.9):\n",
    "        self.v_W = momentum * self.v_W - learning_rate * self.grad_W\n",
    "        self.v_b = momentum * self.v_b - learning_rate * self.grad_b\n",
    "        self.W += self.v_W\n",
    "        self.b += self.v_b"
   ]
  },
  {
   "cell_type": "markdown",
   "id": "10537048",
   "metadata": {},
   "source": [
    "### **Relu cho Vector**"
   ]
  },
  {
   "cell_type": "code",
   "execution_count": 22,
   "id": "398dcbb0",
   "metadata": {},
   "outputs": [],
   "source": [
    "class ReLUVector_Numpy:\n",
    "    def forward(self, x):\n",
    "        self.input = x\n",
    "        return np.maximum(0, x)\n",
    "\n",
    "    def backward(self, grad_output):\n",
    "        return grad_output * (self.input > 0)"
   ]
  },
  {
   "cell_type": "markdown",
   "id": "dc9aa5fc",
   "metadata": {},
   "source": [
    "### **Softmax + CrossEntropyLoss**"
   ]
  },
  {
   "cell_type": "code",
   "execution_count": 23,
   "id": "6bd7bdd0",
   "metadata": {},
   "outputs": [],
   "source": [
    "class Softmax_Numpy:\n",
    "    def forward(self, x):\n",
    "        self.input = x\n",
    "        x_stable = x - np.max(x)  # Chống tràn số\n",
    "        exps = np.exp(x_stable)\n",
    "        self.output = exps / np.sum(exps)\n",
    "        return self.output\n",
    "    \n",
    "class CrossEntropyLoss_Numpy:\n",
    "    def forward(self, pred_probs, target_onehot):\n",
    "        self.pred_probs = pred_probs\n",
    "        self.target_onehot = target_onehot\n",
    "        return -np.sum(target_onehot * np.log(pred_probs + 1e-12))  # tránh log(0)\n",
    "\n",
    "    def backward(self):\n",
    "        return self.pred_probs - self.target_onehot"
   ]
  },
  {
   "cell_type": "markdown",
   "id": "28728557",
   "metadata": {},
   "source": [
    "### **Class Cấu Trúc**"
   ]
  },
  {
   "cell_type": "code",
   "execution_count": 24,
   "id": "0b8b6613",
   "metadata": {},
   "outputs": [],
   "source": [
    "class SimpleCNN_Numpy:\n",
    "    def __init__(self):\n",
    "        self.block1 = ConvBlock_Numpy(3, 64, num_convs=2, padding=1)\n",
    "        self.block2 = ConvBlock_Numpy(64, 128, num_convs=2, padding=1)\n",
    "        self.block3 = ConvBlock_Numpy(128, 256, num_convs=2, padding=1)\n",
    "\n",
    "        self.flatten = Flatten_Numpy()\n",
    "        self.fc1 = FullyConnected_Numpy(256 * 4 * 4, 512)\n",
    "        self.relu_fc1 = ReLUVector_Numpy()\n",
    "        self.fc2 = FullyConnected_Numpy(512, 10)\n",
    "        self.softmax = Softmax_Numpy()"
   ]
  },
  {
   "cell_type": "markdown",
   "id": "ba19bc3f",
   "metadata": {},
   "source": [
    "### **Train**"
   ]
  },
  {
   "cell_type": "code",
   "execution_count": 41,
   "id": "c83ec0f7",
   "metadata": {},
   "outputs": [],
   "source": [
    "def train_numpy(model, train_data, train_labels, epochs=10, learning_rate=0.01,\n",
    "                mb_size=32, momentum=0.9, lr_decay_factor=0.5,\n",
    "                log_filename=\"training_log_numpy.csv\", detail_log_filename=\"details_log_numpy.csv\"):\n",
    "\n",
    "    np.random.seed(0)\n",
    "\n",
    "    best_train_acc = 0\n",
    "    plateau_count = 0\n",
    "    patience = 2      # số epoch không tăng acc thì giảm lr\n",
    "\n",
    "    cross_entropy = CrossEntropyLoss_Numpy()\n",
    "    n_samples = train_data.shape[0]\n",
    "    indices = np.arange(n_samples)\n",
    "\n",
    "    for epoch in range(epochs):\n",
    "        start_epoch = time.time()\n",
    "        total_loss = 0.0\n",
    "        correct = 0\n",
    "\n",
    "        conv2d_time = relu_time = maxpool_time = flatten_time = fc_time = softmax_time = 0.0\n",
    "\n",
    "        np.random.shuffle(indices)\n",
    "        train_data_shuffled = train_data[indices]\n",
    "        train_labels_shuffled = train_labels[indices]\n",
    "\n",
    "        full_batch_count = n_samples // mb_size\n",
    "        for i in range(full_batch_count):\n",
    "            start = i * mb_size\n",
    "            end = start + mb_size\n",
    "            X_batch = train_data_shuffled[start:end]\n",
    "            y_batch = train_labels_shuffled[start:end]\n",
    "\n",
    "            for x, target in zip(X_batch, y_batch):\n",
    "                ## ====== FORWARD ======\n",
    "                out = x\n",
    "                for conv, relu in zip(model.block1.convs, model.block1.relus):\n",
    "                    t0 = time.time(); out = conv.forward(out); t1 = time.time(); conv2d_time += t1 - t0\n",
    "                    t0 = time.time(); out = relu.forward(out); t1 = time.time(); relu_time += t1 - t0\n",
    "                t0 = time.time(); out = model.block1.pool.forward(out); t1 = time.time(); maxpool_time += t1 - t0\n",
    "\n",
    "                for conv, relu in zip(model.block2.convs, model.block2.relus):\n",
    "                    t0 = time.time(); out = conv.forward(out); t1 = time.time(); conv2d_time += t1 - t0\n",
    "                    t0 = time.time(); out = relu.forward(out); t1 = time.time(); relu_time += t1 - t0\n",
    "                t0 = time.time(); out = model.block2.pool.forward(out); t1 = time.time(); maxpool_time += t1 - t0\n",
    "\n",
    "                for conv, relu in zip(model.block3.convs, model.block3.relus):\n",
    "                    t0 = time.time(); out = conv.forward(out); t1 = time.time(); conv2d_time += t1 - t0\n",
    "                    t0 = time.time(); out = relu.forward(out); t1 = time.time(); relu_time += t1 - t0\n",
    "                t0 = time.time(); out = model.block3.pool.forward(out); t1 = time.time(); maxpool_time += t1 - t0\n",
    "\n",
    "                t0 = time.time(); out = model.flatten.forward(out); t1 = time.time(); flatten_time += t1 - t0\n",
    "                t0 = time.time(); out = model.fc1.forward(out); t1 = time.time(); fc_time += t1 - t0\n",
    "                t0 = time.time(); out = model.relu_fc1.forward(out); t1 = time.time(); relu_time += t1 - t0\n",
    "                t0 = time.time(); out = model.fc2.forward(out); t1 = time.time(); fc_time += t1 - t0\n",
    "                t0 = time.time(); pred_probs = model.softmax.forward(out); t1 = time.time(); softmax_time += t1 - t0\n",
    "\n",
    "                loss = cross_entropy.forward(pred_probs, target)\n",
    "                total_loss += loss\n",
    "                if np.argmax(pred_probs) == np.argmax(target):\n",
    "                    correct += 1\n",
    "\n",
    "                ## ====== BACKWARD ======\n",
    "                t0 = time.time(); grad = cross_entropy.backward(); t1 = time.time(); softmax_time += t1 - t0\n",
    "                t0 = time.time(); grad = model.fc2.backward(grad); t1 = time.time(); fc_time += t1 - t0\n",
    "                t0 = time.time(); grad = model.relu_fc1.backward(grad); t1 = time.time(); relu_time += t1 - t0\n",
    "                t0 = time.time(); grad = model.fc1.backward(grad); t1 = time.time(); fc_time += t1 - t0\n",
    "                t0 = time.time(); grad = model.flatten.backward(grad); t1 = time.time(); flatten_time += t1 - t0\n",
    "\n",
    "                t0 = time.time(); grad = model.block3.pool.backward(grad); t1 = time.time(); maxpool_time += t1 - t0\n",
    "                for conv, relu in zip(reversed(model.block3.convs), reversed(model.block3.relus)):\n",
    "                    t0 = time.time(); grad = relu.backward(grad); t1 = time.time(); relu_time += t1 - t0\n",
    "                    t0 = time.time(); grad = conv.backward(grad); t1 = time.time(); conv2d_time += t1 - t0\n",
    "\n",
    "                t0 = time.time(); grad = model.block2.pool.backward(grad); t1 = time.time(); maxpool_time += t1 - t0\n",
    "                for conv, relu in zip(reversed(model.block2.convs), reversed(model.block2.relus)):\n",
    "                    t0 = time.time(); grad = relu.backward(grad); t1 = time.time(); relu_time += t1 - t0\n",
    "                    t0 = time.time(); grad = conv.backward(grad); t1 = time.time(); conv2d_time += t1 - t0\n",
    "\n",
    "                t0 = time.time(); grad = model.block1.pool.backward(grad); t1 = time.time(); maxpool_time += t1 - t0\n",
    "                for conv, relu in zip(reversed(model.block1.convs), reversed(model.block1.relus)):\n",
    "                    t0 = time.time(); grad = relu.backward(grad); t1 = time.time(); relu_time += t1 - t0\n",
    "                    t0 = time.time(); grad = conv.backward(grad); t1 = time.time(); conv2d_time += t1 - t0\n",
    "\n",
    "                ## ====== UPDATE (có momentum) ======\n",
    "                model.fc2.step(learning_rate, momentum)\n",
    "                model.fc1.step(learning_rate, momentum)\n",
    "                model.block3.step(learning_rate, momentum)\n",
    "                model.block2.step(learning_rate, momentum)\n",
    "                model.block1.step(learning_rate, momentum)\n",
    "\n",
    "        ## ====== LOGGING ======\n",
    "        end_epoch = time.time()\n",
    "        epoch_time = end_epoch - start_epoch\n",
    "        accuracy = correct / (full_batch_count * mb_size)\n",
    "\n",
    "        func.log_training_details(epoch, epochs, epoch_time, n_samples, total_loss / (full_batch_count * mb_size), accuracy, log_filename)\n",
    "        func.log_details(f\"Epoch_{epoch+1}\", mb_size, conv2d_time, relu_time, maxpool_time, flatten_time, fc_time, softmax_time, detail_log_filename)\n",
    "\n",
    "        print(f\"Epoch {epoch+1}/{epochs} - Loss: {total_loss/(full_batch_count * mb_size):.4f} - Acc: {accuracy:.4f} - Time: {epoch_time:.2f}s\")\n",
    "        print(f\"    Conv2D: {conv2d_time:.2f}s | ReLU: {relu_time:.2f}s | MaxPool: {maxpool_time:.2f}s | Flatten: {flatten_time:.2f}s | FC: {fc_time:.2f}s | Softmax: {softmax_time:.2f}s\\n\")\n",
    "\n",
    "        ## ====== ReduceLROnPlateau bằng train accuracy ======\n",
    "        if epoch == 0:\n",
    "            best_train_acc = accuracy\n",
    "            plateau_count = 0\n",
    "        else:\n",
    "            if accuracy > best_train_acc:\n",
    "                best_train_acc = accuracy\n",
    "                plateau_count = 0\n",
    "            else:\n",
    "                plateau_count += 1\n",
    "                if plateau_count >= 2:  # patience\n",
    "                    learning_rate *= lr_decay_factor  # lr_decay_factor\n",
    "                    plateau_count = 0\n",
    "                    print(f\"⚠️  ReduceLROnPlateau: Learning rate reduced to {learning_rate:.6f}\")"
   ]
  },
  {
   "cell_type": "markdown",
   "id": "b8618836",
   "metadata": {},
   "source": [
    "#### **Tiền xử lý**"
   ]
  },
  {
   "cell_type": "code",
   "execution_count": 26,
   "id": "c6bbe20e",
   "metadata": {},
   "outputs": [],
   "source": [
    "def preprocess_data(images, labels, num_classes=10):\n",
    "    # 1. Normalize pixel values (0-255) → (0-1)\n",
    "    images = images.astype(np.float32) / 255.0\n",
    "\n",
    "    # 2. Đảm bảo ảnh có shape (H, W, C), nếu đang là (C, H, W), cần chuyển\n",
    "    if images.shape[1] == 3:  # Nếu là (N, C, H, W), chuyển về (N, H, W, C)\n",
    "        images = images.transpose(0, 2, 3, 1)\n",
    "\n",
    "    # 3. One-hot encoding label\n",
    "    onehot = np.zeros((labels.shape[0], num_classes), dtype=np.float32)\n",
    "    onehot[np.arange(labels.shape[0]), labels] = 1.0\n",
    "\n",
    "    return images, onehot"
   ]
  },
  {
   "cell_type": "code",
   "execution_count": 28,
   "id": "4447cd34",
   "metadata": {},
   "outputs": [],
   "source": [
    "X_train, y_train, X_test, y_test = func.load_cifar10_data()\n",
    "X_train, y_train = preprocess_data(X_train, y_train, num_classes=10)\n",
    "X_test, y_test = preprocess_data(X_test, y_test, num_classes=10)"
   ]
  },
  {
   "cell_type": "code",
   "execution_count": 52,
   "id": "bc5c5f02",
   "metadata": {},
   "outputs": [
    {
     "name": "stdout",
     "output_type": "stream",
     "text": [
      "Epoch 1/1 - Loss: 2.3125 - Acc: 0.2000 - Time: 1.24s\n",
      "    Conv2D: 0.51s | ReLU: 0.01s | MaxPool: 0.05s | Flatten: 0.00s | FC: 0.13s | Softmax: 0.00s\n",
      "\n"
     ]
    }
   ],
   "source": [
    "model = SimpleCNN_Numpy()\n",
    "train_numpy(\n",
    "    model,\n",
    "    X_train[:10],  # train thử 10 mẫu đầu\n",
    "    y_train[:10],\n",
    "    epochs=1,        # train thử 1 epoch\n",
    "    learning_rate=0.001,\n",
    "    momentum=0.9,\n",
    "    lr_decay_factor=0.5,\n",
    "    mb_size=2,\n",
    "    log_filename=\"Data/log/training_log_numpy_10.csv\",\n",
    "    detail_log_filename=\"Data/log/details_log_numpy_10.csv\"\n",
    ")"
   ]
  },
  {
   "cell_type": "code",
   "execution_count": 53,
   "id": "4bbb0078",
   "metadata": {},
   "outputs": [
    {
     "data": {
      "image/png": "[encoded data removed]",
      "text/plain": [
       "<Figure size 1200x600 with 1 Axes>"
      ]
     },
     "metadata": {},
     "output_type": "display_data"
    }
   ],
   "source": [
    "func.plot_details(\"Data/log/details_log_numpy_10.csv\")"
   ]
  },
  {
   "cell_type": "code",
   "execution_count": 33,
   "id": "7226a455",
   "metadata": {},
   "outputs": [
    {
     "name": "stdout",
     "output_type": "stream",
     "text": [
      "Epoch 1/1 - Loss: 1.5677 - Acc: 0.4268 - Time: 4140.36s\n",
      "    Conv2D: 2285.49s | ReLU: 62.31s | MaxPool: 214.90s | Flatten: 0.47s | FC: 602.13s | Softmax: 2.27s\n",
      "\n"
     ]
    }
   ],
   "source": [
    "model = SimpleCNN_Numpy()\n",
    "train_numpy(\n",
    "    model,\n",
    "    X_train,\n",
    "    y_train,\n",
    "    epochs=1,        # train thử 1 epoch\n",
    "    learning_rate=0.01,\n",
    "    mb_size=64,\n",
    "    log_filename=\"Data/log/training_log_numpy_50000.csv\",\n",
    "    detail_log_filename=\"Data/log/details_log_numpy_50000.csv\"\n",
    ")"
   ]
  },
  {
   "cell_type": "code",
   "execution_count": 34,
   "id": "c8f2a60a",
   "metadata": {},
   "outputs": [
    {
     "data": {
      "image/png": "[encoded data removed]",
      "text/plain": [
       "<Figure size 1200x600 with 1 Axes>"
      ]
     },
     "metadata": {},
     "output_type": "display_data"
    }
   ],
   "source": [
    "func.plot_details(\"Data/log/details_log_numpy_50000.csv\")"
   ]
  },
  {
   "cell_type": "code",
   "execution_count": 37,
   "id": "abcd2a20",
   "metadata": {},
   "outputs": [
    {
     "name": "stdout",
     "output_type": "stream",
     "text": [
      "Epoch 1/10 - Loss: 1.5688 - Acc: 0.4276 - Time: 3955.16s\n",
      "    Conv2D: 2150.68s | ReLU: 60.42s | MaxPool: 211.00s | Flatten: 0.49s | FC: 601.30s | Softmax: 2.22s\n",
      "\n",
      "Epoch 2/10 - Loss: 1.2191 - Acc: 0.5725 - Time: 3972.91s\n",
      "    Conv2D: 2157.70s | ReLU: 61.66s | MaxPool: 208.55s | Flatten: 0.48s | FC: 608.88s | Softmax: 2.19s\n",
      "\n",
      "Epoch 3/10 - Loss: 1.1614 - Acc: 0.5986 - Time: 4122.75s\n",
      "    Conv2D: 2238.02s | ReLU: 64.98s | MaxPool: 218.90s | Flatten: 0.50s | FC: 627.25s | Softmax: 2.30s\n",
      "\n",
      "Epoch 4/10 - Loss: 1.1906 - Acc: 0.5917 - Time: 3849.41s\n",
      "    Conv2D: 2093.83s | ReLU: 59.97s | MaxPool: 201.69s | Flatten: 0.48s | FC: 584.81s | Softmax: 2.21s\n",
      "\n",
      "Epoch 5/10 - Loss: 1.2691 - Acc: 0.5655 - Time: 3834.90s\n",
      "    Conv2D: 2080.71s | ReLU: 60.69s | MaxPool: 202.99s | Flatten: 0.48s | FC: 585.13s | Softmax: 2.05s\n",
      "\n",
      "Epoch 6/10 - Loss: 1.3870 - Acc: 0.5246 - Time: 3880.39s\n",
      "    Conv2D: 2101.04s | ReLU: 59.75s | MaxPool: 201.89s | Flatten: 0.41s | FC: 598.45s | Softmax: 2.19s\n",
      "\n",
      "Epoch 7/10 - Loss: 1.5206 - Acc: 0.4749 - Time: 3844.49s\n",
      "    Conv2D: 2081.76s | ReLU: 59.90s | MaxPool: 200.18s | Flatten: 0.45s | FC: 593.85s | Softmax: 2.12s\n",
      "\n",
      "Epoch 8/10 - Loss: 1.6494 - Acc: 0.4265 - Time: 3894.03s\n",
      "    Conv2D: 2135.65s | ReLU: 59.72s | MaxPool: 203.54s | Flatten: 0.46s | FC: 587.47s | Softmax: 2.12s\n",
      "\n",
      "Epoch 9/10 - Loss: 1.6654 - Acc: 0.4151 - Time: 4276.84s\n",
      "    Conv2D: 2394.78s | ReLU: 65.73s | MaxPool: 225.40s | Flatten: 0.58s | FC: 625.41s | Softmax: 2.38s\n",
      "\n",
      "Epoch 10/10 - Loss: 1.7135 - Acc: 0.3960 - Time: 3818.37s\n",
      "    Conv2D: 2073.04s | ReLU: 60.12s | MaxPool: 200.84s | Flatten: 0.49s | FC: 583.49s | Softmax: 2.17s\n",
      "\n"
     ]
    }
   ],
   "source": [
    "model_10 = SimpleCNN_Numpy()\n",
    "train_numpy(\n",
    "    model_10,\n",
    "    X_train,\n",
    "    y_train,\n",
    "    epochs=10,        # train thử 10 epoch\n",
    "    learning_rate=0.01,\n",
    "    mb_size=64,\n",
    "    log_filename=\"Data/log/training_log_numpy_50000_10.csv\",\n",
    "    detail_log_filename=\"Data/log/details_log_numpy_50000_10.csv\"\n",
    ")"
   ]
  },
  {
   "cell_type": "code",
   "execution_count": 54,
   "id": "deb61e4d",
   "metadata": {},
   "outputs": [
    {
     "name": "stdout",
     "output_type": "stream",
     "text": [
      "Epoch 1/10 - Loss: 1.5889 - Acc: 0.4193 - Time: 5605.93s\n",
      "    Conv2D: 2217.50s | ReLU: 62.79s | MaxPool: 221.04s | Flatten: 0.52s | FC: 626.08s | Softmax: 2.34s\n",
      "\n",
      "Epoch 2/10 - Loss: 1.2279 - Acc: 0.5670 - Time: 5666.57s\n",
      "    Conv2D: 2259.77s | ReLU: 62.64s | MaxPool: 217.70s | Flatten: 0.52s | FC: 629.36s | Softmax: 2.30s\n",
      "\n",
      "Epoch 3/10 - Loss: 1.1528 - Acc: 0.6004 - Time: 6165.52s\n",
      "    Conv2D: 2488.58s | ReLU: 69.24s | MaxPool: 240.20s | Flatten: 0.54s | FC: 670.18s | Softmax: 2.61s\n",
      "\n",
      "Epoch 4/10 - Loss: 1.1897 - Acc: 0.5910 - Time: 5989.55s\n",
      "    Conv2D: 2430.95s | ReLU: 65.21s | MaxPool: 228.34s | Flatten: 0.57s | FC: 647.95s | Softmax: 2.54s\n",
      "\n",
      "Epoch 5/10 - Loss: 1.2946 - Acc: 0.5553 - Time: 5422.06s\n",
      "    Conv2D: 2137.25s | ReLU: 59.00s | MaxPool: 205.28s | Flatten: 0.45s | FC: 604.54s | Softmax: 2.17s\n",
      "\n",
      "⚠️  ReduceLROnPlateau: Learning rate reduced to 0.000500\n",
      "Epoch 6/10 - Loss: 0.9923 - Acc: 0.6608 - Time: 5405.75s\n",
      "    Conv2D: 2126.77s | ReLU: 59.94s | MaxPool: 206.85s | Flatten: 0.47s | FC: 597.72s | Softmax: 2.23s\n",
      "\n",
      "Epoch 7/10 - Loss: 0.8365 - Acc: 0.7127 - Time: 5400.47s\n",
      "    Conv2D: 2162.07s | ReLU: 60.05s | MaxPool: 211.99s | Flatten: 0.48s | FC: 588.47s | Softmax: 2.23s\n",
      "\n",
      "Epoch 8/10 - Loss: 0.7493 - Acc: 0.7421 - Time: 5176.24s\n",
      "    Conv2D: 2068.54s | ReLU: 57.38s | MaxPool: 203.34s | Flatten: 0.47s | FC: 569.28s | Softmax: 2.17s\n",
      "\n",
      "Epoch 9/10 - Loss: 0.7107 - Acc: 0.7555 - Time: 5799.86s\n",
      "    Conv2D: 2357.93s | ReLU: 63.45s | MaxPool: 223.77s | Flatten: 0.51s | FC: 627.99s | Softmax: 2.40s\n",
      "\n",
      "Epoch 10/10 - Loss: 0.6726 - Acc: 0.7699 - Time: 6042.79s\n",
      "    Conv2D: 2471.49s | ReLU: 66.48s | MaxPool: 233.10s | Flatten: 0.52s | FC: 651.08s | Softmax: 2.51s\n",
      "\n"
     ]
    }
   ],
   "source": [
    "model_10_2 = SimpleCNN_Numpy()\n",
    "train_numpy(\n",
    "    model_10_2,\n",
    "    X_train,\n",
    "    y_train,\n",
    "    epochs=10,        # train thử 10 epoch\n",
    "    learning_rate=0.001,\n",
    "    momentum=0.9,\n",
    "    lr_decay_factor=0.5,\n",
    "    mb_size=64,\n",
    "    log_filename=\"Data/log/training_log_numpy_50000_10.csv\",\n",
    "    detail_log_filename=\"Data/log/details_log_numpy_50000_10.csv\"\n",
    ")"
   ]
  },
  {
   "cell_type": "code",
   "execution_count": 5,
   "id": "8035c36a",
   "metadata": {},
   "outputs": [
    {
     "data": {
      "image/png": "[encoded data removed]",
      "text/plain": [
       "<Figure size 1000x600 with 1 Axes>"
      ]
     },
     "metadata": {},
     "output_type": "display_data"
    }
   ],
   "source": [
    "func.plot_timeline_from_log(\n",
    "    \"Data/log/training_log_numpy_50000_10.csv\",\n",
    "    columns = [\"Accuracy\"],\n",
    "    title = \"Accuracy over epochs\",\n",
    "    ylabel = \"Accuracy\",\n",
    ")"
   ]
  }
 ],
 "metadata": {
  "kernelspec": {
   "display_name": "Python 3",
   "language": "python",
   "name": "python3"
  },
  "language_info": {
   "codemirror_mode": {
    "name": "ipython",
    "version": 3
   },
   "file_extension": ".py",
   "mimetype": "text/x-python",
   "name": "python",
   "nbconvert_exporter": "python",
   "pygments_lexer": "ipython3",
   "version": "3.12.10"
  }
 },
 "nbformat": 4,
 "nbformat_minor": 5
}
