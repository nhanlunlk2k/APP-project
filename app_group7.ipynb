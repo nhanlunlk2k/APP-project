{
  "nbformat": 4,
  "nbformat_minor": 0,
  "metadata": {
    "colab": {
      "provenance": [],
      "authorship_tag": "ABX9TyNvK1si565xUDDWIEf0n4hf",
      "include_colab_link": true
    },
    "kernelspec": {
      "name": "python3",
      "display_name": "Python 3"
    },
    "language_info": {
      "name": "python"
    }
  },
  "cells": [
    {
      "cell_type": "markdown",
      "metadata": {
        "id": "view-in-github",
        "colab_type": "text"
      },
      "source": [
        "<a href=\"https://colab.research.google.com/github/nhanlunlk2k/APP-project/blob/main/app_group7.ipynb\" target=\"_parent\"><img src=\"https://colab.research.google.com/assets/colab-badge.svg\" alt=\"Open In Colab\"/></a>"
      ]
    },
    {
      "cell_type": "code",
      "execution_count": 15,
      "metadata": {
        "id": "s7NrE0TyjyVb"
      },
      "outputs": [],
      "source": [
        "import numpy as np\n",
        "import matplotlib.pyplot as plt\n",
        "import numba\n",
        "import copy"
      ]
    },
    {
      "cell_type": "code",
      "source": [
        "def find_min_max_2D(M):\n",
        "    min = M[0][0]\n",
        "    max = M[0][0]\n",
        "    for i in range(len(M)):\n",
        "        for j in range(len(M[i])):\n",
        "            if M[i][j] < min:\n",
        "                min = M[i][j]\n",
        "            elif M[i][j] > max:\n",
        "                max = M[i][j]\n",
        "    return min,max\n",
        "\n",
        "def find_mean_2D(M):\n",
        "    sum = 0\n",
        "    for i in range(len(M)):\n",
        "        for j in range(len(M[i])):\n",
        "            sum += M[i][j]\n",
        "    return sum/(len(M)*len(M[0]))\n",
        "\n",
        "def find_median_2D(M):\n",
        "    tmp = copy.copy(M[0])\n",
        "    for i in range(1,len(M)):\n",
        "        tmp.extend(M[i])\n",
        "    tmp.sort()\n",
        "    if len(tmp)%2 == 0:\n",
        "        return (tmp[len(tmp)//2] + tmp[len(tmp)//2 - 1])/2\n",
        "    else:\n",
        "        return tmp[len(tmp)//2]\n",
        "\n",
        "def pad_2D(M,padding_size,mode):\n",
        "    num_cols = len(M[0]) + padding_size[0][0] + padding_size[0][1]\n",
        "    #num_rows = len(M) + padding_size[1][0] + padding_size[1][1]\n",
        "    match mode:\n",
        "        case 'min':\n",
        "            cons = find_min_max_2D(M)[0]\n",
        "            for i in range(len(M)):\n",
        "                for j in range(padding_size[0][0]):\n",
        "                    M[i].insert(0,cons)\n",
        "                for j in range(padding_size[0][1]):\n",
        "                    M[i].append(cons)\n",
        "            line = [cons]*num_cols\n",
        "            for j in range(padding_size[1][0]):\n",
        "                M.insert(0,line)\n",
        "            for j in range(padding_size[1][1]):\n",
        "                M.append(line)\n",
        "            return M\n",
        "        case 'max':\n",
        "            cons = find_min_max_2D(M)[1]\n",
        "            for i in range(len(M)):\n",
        "                for j in range(padding_size[0][0]):\n",
        "                    M[i].insert(0,cons)\n",
        "                for j in range(padding_size[0][1]):\n",
        "                    M[i].append(cons)\n",
        "            line = [cons]*num_cols\n",
        "            for j in range(padding_size[1][0]):\n",
        "                M.insert(0,line)\n",
        "            for j in range(padding_size[1][1]):\n",
        "                M.append(line)\n",
        "            return M\n",
        "        case 'mean':\n",
        "            cons = find_mean_2D(M)\n",
        "            for i in range(len(M)):\n",
        "                for j in range(padding_size[0][0]):\n",
        "                    M[i].insert(0,cons)\n",
        "                for j in range(padding_size[0][1]):\n",
        "                    M[i].append(cons)\n",
        "            for j in range(padding_size[1][0]):\n",
        "                M.insert(0,[cons]*num_cols)\n",
        "            for j in range(padding_size[1][1]):\n",
        "                M.append([cons]*num_cols)\n",
        "            return M\n",
        "        case 'zero':\n",
        "            for i in range(len(M)):\n",
        "                for j in range(padding_size[0][0]):\n",
        "                    M[i].insert(0,0)\n",
        "                for j in range(padding_size[0][1]):\n",
        "                    M[i].append(0)\n",
        "            for j in range(padding_size[1][0]):\n",
        "                M.insert(0,[0]*num_cols)\n",
        "            for j in range(padding_size[1][1]):\n",
        "                M.append([0]*num_cols)\n",
        "            return M\n",
        "        case 'median':\n",
        "            cons = find_median_2D(M)\n",
        "            for i in range(len(M)):\n",
        "                for j in range(padding_size[0][0]):\n",
        "                    M[i].insert(0,cons)\n",
        "                for j in range(padding_size[0][1]):\n",
        "                    M[i].append(cons)\n",
        "            for j in range(padding_size[1][0]):\n",
        "                M.insert(0,[cons]*num_cols)\n",
        "            for j in range(padding_size[1][1]):\n",
        "                M.append([cons]*num_cols)\n",
        "            return M\n",
        "        case 'edge':\n",
        "            for i in range(len(M)):\n",
        "                for j in range(padding_size[0][0]):\n",
        "                    M[i].insert(0,M[i][0])\n",
        "        #print(M)\n",
        "                for j in range(padding_size[0][1]):\n",
        "                    M[i].append(M[i][-1])\n",
        "        #print(M)\n",
        "            M = [M[0]]*padding_size[1][0] + M + [M[-1]]*padding_size[1][1]\n",
        "    #print(M)\n",
        "            return M\n",
        "        case _:\n",
        "            raise ValueError('Invalid mode')\n",
        "    pass"
      ],
      "metadata": {
        "id": "J4p2kJyUwZ3p"
      },
      "execution_count": 21,
      "outputs": []
    },
    {
      "cell_type": "code",
      "source": [
        "def num_dim(A):\n",
        "    if type(A) == list:\n",
        "        return 1 + num_dim(A[0])\n",
        "    else:\n",
        "        return 0\n",
        "\n",
        "def array_shape(A):\n",
        "    shape = []\n",
        "    while type(A) == list:\n",
        "        shape.append(len(A))\n",
        "        A = A[0]\n",
        "    return shape\n",
        "\n",
        "def small_convolution(A,B): #3D convolution with same size\n",
        "    res = 0\n",
        "    for k in range(len(A)):\n",
        "        for i in range(len(A[k])):\n",
        "            for j in range(len(A[k][i])):\n",
        "                res += A[k][i][j]*B[k][i][j]\n",
        "    return res\n",
        "\n",
        "def extract_array(A,begin,end):\n",
        "    res = []\n",
        "    for i in range(begin[0],end[0]):\n",
        "        line = []\n",
        "        for j in range(begin[1],end[1]):\n",
        "            line.append(A[i][j])\n",
        "        res.append(line)\n",
        "    return res\n",
        "\n",
        "def convolution1_py(F,M,padding=None): #F is a filter (2d array), M is a volume (3d matrix)\n",
        "    up_padding = len(F)//2\n",
        "    down_padding = len(F) - len(F)//2 - 1\n",
        "    left_padding = len(F[0])//2\n",
        "    right_padding = len(F) - len(F[0])//2 - 1\n",
        "    F = [F]*len(M)\n",
        "    pad_size = ((left_padding,right_padding),(up_padding,down_padding))\n",
        "    res = []\n",
        "    if padding != None:\n",
        "        for i in range(len(M)):\n",
        "            M[i] = pad_2D(M[i],pad_size,padding)\n",
        "        res = [[0]*len(M[0][0])]*len(M[0])\n",
        "    else:\n",
        "        res = [[0]*(len(M[0][0]) - len(F) + 1)]*(len(M[0]) - len(F[0]) + 1)\n",
        "    for i in range(len(res)):\n",
        "        for j in range(len(res[i])):\n",
        "            res[i][j] = small_convolution(extract_array(M, (i,j), (i+len(F),j+len(F[0]))),F)\n",
        "    return res"
      ],
      "metadata": {
        "id": "RiZLYGep-PrU"
      },
      "execution_count": 76,
      "outputs": []
    },
    {
      "cell_type": "code",
      "source": [
        "def convolution_np(F,M): #F is a matrix (2d array), M is a volume (3d matrix)\n",
        "    pass"
      ],
      "metadata": {
        "id": "9SDMdvAHbIUR"
      },
      "execution_count": 4,
      "outputs": []
    },
    {
      "cell_type": "code",
      "source": [
        "a = [[6,1,8],[3,2,5],[9,5,7],[4,3,6]]\n",
        "#tmp = a[0]\n",
        "#for i in range(1,len(a)):\n",
        "#    tmp += a[i]\n",
        "#tmp.sort()\n",
        "#print(tmp)\n",
        "#tmp.sort()\n",
        "#tmp\n",
        "array_shape(a)\n",
        "#c=find_median_2D(a)\n",
        "#for i in range(len(a)):\n",
        "#    for j in range(2):\n",
        "#        a[i].insert(0,c)\n",
        "extract_array(a,(1,1),(3,3))"
      ],
      "metadata": {
        "id": "DvlUASWVam2U",
        "outputId": "81ff8ce4-e8f0-4c3a-fa25-50ec92fd41c9",
        "colab": {
          "base_uri": "https://localhost:8080/"
        }
      },
      "execution_count": 77,
      "outputs": [
        {
          "output_type": "execute_result",
          "data": {
            "text/plain": [
              "[[2, 5], [5, 7]]"
            ]
          },
          "metadata": {},
          "execution_count": 77
        }
      ]
    },
    {
      "cell_type": "code",
      "source": [
        "[[]]*6"
      ],
      "metadata": {
        "id": "Y9As5Dp9_3tF",
        "outputId": "1c1bfcd7-2232-4311-bdb8-e7fe84ac7c1c",
        "colab": {
          "base_uri": "https://localhost:8080/"
        }
      },
      "execution_count": 65,
      "outputs": [
        {
          "output_type": "execute_result",
          "data": {
            "text/plain": [
              "[[], [], [], [], [], []]"
            ]
          },
          "metadata": {},
          "execution_count": 65
        }
      ]
    }
  ]
}