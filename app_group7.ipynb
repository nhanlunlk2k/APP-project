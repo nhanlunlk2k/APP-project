{
  "nbformat": 4,
  "nbformat_minor": 0,
  "metadata": {
    "colab": {
      "provenance": [],
      "authorship_tag": "ABX9TyN5oqpdCBvQoCSz7e0ihN1N",
      "include_colab_link": true
    },
    "kernelspec": {
      "name": "python3",
      "display_name": "Python 3"
    },
    "language_info": {
      "name": "python"
    }
  },
  "cells": [
    {
      "cell_type": "markdown",
      "metadata": {
        "id": "view-in-github",
        "colab_type": "text"
      },
      "source": [
        "<a href=\"https://colab.research.google.com/github/nhanlunlk2k/APP-project/blob/main/app_group7.ipynb\" target=\"_parent\"><img src=\"https://colab.research.google.com/assets/colab-badge.svg\" alt=\"Open In Colab\"/></a>"
      ]
    },
    {
      "cell_type": "code",
      "execution_count": 2,
      "metadata": {
        "id": "s7NrE0TyjyVb"
      },
      "outputs": [],
      "source": [
        "import numpy as np\n",
        "import matplotlib.pyplot as plt\n",
        "import numba\n",
        "import copy"
      ]
    },
    {
      "cell_type": "code",
      "source": [
        "def find_min_max_2D(M):\n",
        "    min = M[0][0]\n",
        "    max = M[0][0]\n",
        "    for i in range(len(M)):\n",
        "        for j in range(len(M[i])):\n",
        "            if M[i][j] < min:\n",
        "                min = M[i][j]\n",
        "            elif M[i][j] > max:\n",
        "                max = M[i][j]\n",
        "    return min,max\n",
        "\n",
        "def find_mean_2D(M):\n",
        "    sum = 0\n",
        "    for i in range(len(M)):\n",
        "        for j in range(len(M[i])):\n",
        "            sum += M[i][j]\n",
        "    return sum/(len(M)*len(M[0]))\n",
        "\n",
        "def find_median_2D(M):\n",
        "    tmp = copy.copy(M[0])\n",
        "    for i in range(1,len(M)):\n",
        "        tmp.extend(M[i])\n",
        "    tmp.sort()\n",
        "    if len(tmp)%2 == 0:\n",
        "        return (tmp[len(tmp)//2] + tmp[len(tmp)//2 - 1])/2\n",
        "    else:\n",
        "        return tmp[len(tmp)//2]\n",
        "\n",
        "def pad_2D(M,padding_size,mode):\n",
        "    num_cols = len(M[0]) + padding_size[0][0] + padding_size[0][1]\n",
        "    #num_rows = len(M) + padding_size[1][0] + padding_size[1][1]\n",
        "    match mode:\n",
        "        case 'min':\n",
        "            cons = find_min_max_2D(M)[0]\n",
        "            for i in range(len(M)):\n",
        "                for j in range(padding_size[0][0]):\n",
        "                    M[i].insert(0,cons)\n",
        "                for j in range(padding_size[0][1]):\n",
        "                    M[i].append(cons)\n",
        "            line = [cons]*num_cols\n",
        "            for j in range(padding_size[1][0]):\n",
        "                M.insert(0,line)\n",
        "            for j in range(padding_size[1][1]):\n",
        "                M.append(line)\n",
        "            return M\n",
        "        case 'max':\n",
        "            cons = find_min_max_2D(M)[1]\n",
        "            for i in range(len(M)):\n",
        "                for j in range(padding_size[0][0]):\n",
        "                    M[i].insert(0,cons)\n",
        "                for j in range(padding_size[0][1]):\n",
        "                    M[i].append(cons)\n",
        "            line = [cons]*num_cols\n",
        "            for j in range(padding_size[1][0]):\n",
        "                M.insert(0,line)\n",
        "            for j in range(padding_size[1][1]):\n",
        "                M.append(line)\n",
        "            return M\n",
        "        case 'mean':\n",
        "            cons = find_mean_2D(M)\n",
        "            for i in range(len(M)):\n",
        "                for j in range(padding_size[0][0]):\n",
        "                    M[i].insert(0,cons)\n",
        "                for j in range(padding_size[0][1]):\n",
        "                    M[i].append(cons)\n",
        "            for j in range(padding_size[1][0]):\n",
        "                M.insert(0,[cons]*num_cols)\n",
        "            for j in range(padding_size[1][1]):\n",
        "                M.append([cons]*num_cols)\n",
        "            return M\n",
        "        case 'zero':\n",
        "            for i in range(len(M)):\n",
        "                for j in range(padding_size[0][0]):\n",
        "                    M[i].insert(0,0)\n",
        "                for j in range(padding_size[0][1]):\n",
        "                    M[i].append(0)\n",
        "            for j in range(padding_size[1][0]):\n",
        "                M.insert(0,[0]*num_cols)\n",
        "            for j in range(padding_size[1][1]):\n",
        "                M.append([0]*num_cols)\n",
        "            return M\n",
        "        case 'median':\n",
        "            cons = find_median_2D(M)\n",
        "            for i in range(len(M)):\n",
        "                for j in range(padding_size[0][0]):\n",
        "                    M[i].insert(0,cons)\n",
        "                for j in range(padding_size[0][1]):\n",
        "                    M[i].append(cons)\n",
        "            for j in range(padding_size[1][0]):\n",
        "                M.insert(0,[cons]*num_cols)\n",
        "            for j in range(padding_size[1][1]):\n",
        "                M.append([cons]*num_cols)\n",
        "            return M\n",
        "        case 'edge':\n",
        "            for i in range(len(M)):\n",
        "                for j in range(padding_size[0][0]):\n",
        "                    M[i].insert(0,M[i][0])\n",
        "        #print(M)\n",
        "                for j in range(padding_size[0][1]):\n",
        "                    M[i].append(M[i][-1])\n",
        "        #print(M)\n",
        "            M = [M[0]]*padding_size[1][0] + M + [M[-1]]*padding_size[1][1]\n",
        "    #print(M)\n",
        "            return M\n",
        "        case _:\n",
        "            raise ValueError('Invalid mode')\n",
        "    pass"
      ],
      "metadata": {
        "id": "J4p2kJyUwZ3p"
      },
      "execution_count": null,
      "outputs": []
    },
    {
      "cell_type": "code",
      "source": [
        "def num_dim(A):\n",
        "    if type(A) == list:\n",
        "        return 1 + num_dim(A[0])\n",
        "    else:\n",
        "        return 0\n",
        "\n",
        "def array_shape(A):\n",
        "    shape = []\n",
        "    while type(A) == list:\n",
        "        shape.append(len(A))\n",
        "        A = A[0]\n",
        "    return shape\n",
        "\n",
        "#convolution using Python\n",
        "def convolution_py(F,M,padding=None): #F is a filters (n filters x 2d array), M is a volume (3d array)\n",
        "    F_size = array_shape(F)\n",
        "    up_padding = F_size[1]//2\n",
        "    down_padding = F_size[1] - F_size[1]//2 - 1\n",
        "    left_padding = F_size[2]//2\n",
        "    right_padding = F_size[2] - F_size[2]//2 - 1\n",
        "    pad_size = ((left_padding,right_padding),(up_padding,down_padding))\n",
        "    res = []\n",
        "    if padding != None:\n",
        "        for i in range(len(M)):\n",
        "            M[i] = pad_2D(M[i],pad_size,padding)\n",
        "        res = [[[0]*len(M[0][0])]*len(M[0])]*F_size[0]\n",
        "    else:\n",
        "        res = [[[0]*(len(M[0][0]) - F_size[2] + 1)]*(len(M[0]) - F_size[1] + 1)]*F_size[0]\n",
        "    M_size = array_shape(M)\n",
        "    tmp = [[0]*M_size[1]]*M_size[2]\n",
        "    for i in range(M_size[1]):\n",
        "        for j in range(M_size[2]):\n",
        "            for k in range(M_size[0]):\n",
        "                tmp[i][j] += M[k][i][j]\n",
        "    #for i in range(len(res)):\n",
        "    #    for j in range(len(res[i])):\n",
        "    #        for i_f in range(len(F)):\n",
        "    #            for j_f in range(len(F[i_f])):\n",
        "    #                res[i][j] += tmp[i+i_f][j+j_f]*F[i_f][j_f]\n",
        "    for k in range(len(res)):\n",
        "        for i in range(len(res[i])):\n",
        "            for j in range(len(res[i][j])):\n",
        "                for f in range(len(F)):\n",
        "                    for i_f in range(len(F[f])):\n",
        "                        for j_f in range(len(F[f][i_f])):\n",
        "                            res[k][i][j] += tmp[i+i_f][j+j_f]*F[f][i_f][j_f]\n",
        "    return res\n",
        "\n",
        "def pooling_py(M,pool_size,type_,stride): #M has n matrices\n",
        "    res = [[]]*(len(M) // stride[0])\n",
        "    M_size = array_shape(M)\n",
        "    for k in range(M_size[0]):\n",
        "        for i in range(0,M_size[1],stride[0]):\n",
        "            line = []\n",
        "            for j in range(0,M_size[2],stride[1]):\n",
        "                tmp = []\n",
        "                for i_p in range(pool_size[0]):\n",
        "                    for j_p in range(pool_size[1]):\n",
        "                        if (i+i_p < len(M)) and (j+j_p < len(M[0])):\n",
        "                            tmp.append(M[i+i_p][j+j_p])\n",
        "                        else:\n",
        "                            pass\n",
        "                match type_:\n",
        "                    case 'max':\n",
        "                        line.append(max(tmp))\n",
        "                    case 'min':\n",
        "                        line.append(min(tmp))\n",
        "                    case 'mean':\n",
        "                        line.append(sum(tmp)/len(tmp))\n",
        "            res[k].append(line)\n",
        "    return res\n",
        "\n",
        "def unpooling_py(M,pool_size,stride):\n",
        "    pass\n",
        "\n",
        "def deconvolution_py(F,M):\n",
        "    pass"
      ],
      "metadata": {
        "id": "RiZLYGep-PrU"
      },
      "execution_count": null,
      "outputs": []
    },
    {
      "cell_type": "code",
      "source": [
        "#Convolution using Numpy\n",
        "def convolution_np(F,M,padding=None): #F is filters (n filters x 2d array), M is a volume (3d array)\n",
        "    up_padding = F.shape[1]//2\n",
        "    down_padding = F.shape[1] - F.shape[1]//2 - 1\n",
        "    left_padding = F.shape[2]//2\n",
        "    right_padding = F.shape[2] - F.shape[2]//2 - 1\n",
        "    pad_size = ((left_padding,right_padding),(up_padding,down_padding))\n",
        "    res = []\n",
        "    if padding != None:\n",
        "        match padding:\n",
        "            case 'min':\n",
        "                M = np.pad(M,pad_size,mode='minimum')\n",
        "            case 'max':\n",
        "                M = np.pad(M,pad_size,mode='maximum')\n",
        "            case 'mean':\n",
        "                M = np.pad(M,pad_size,mode='mean')\n",
        "            case 'zero':\n",
        "                M = np.pad(M,pad_size,mode='constant',constant_values=0)\n",
        "            case 'median':\n",
        "                M = np.pad(M,pad_size,mode='median')\n",
        "            case 'edge':\n",
        "                M = np.pad(M,pad_size,mode='edge')\n",
        "            case _:\n",
        "                raise ValueError('Invalid padding mode')\n",
        "        res = np.zeros((F.shape[0],M.shape[1],M.shape[2]))\n",
        "    else:\n",
        "        res = np.zeros((F.shape[0],M.shape[1] - F.shape[1] + 1,M.shape[2] - F.shape[2] + 1))\n",
        "    tmp = M.sum(axis=0)\n",
        "    for k in range(res.shape[0]):\n",
        "        for i in range(res.shape[1]):\n",
        "            for j in range(res.shape[2]):\n",
        "                res[k][i][j] += (F * tmp[i:i + F.shape[1] + 1,j:j + F.shape[2] + 1]).sum(axis=0)[k]\n",
        "    return res\n",
        "\n",
        "def pooling_np(M,pool_size,type_,stride):\n",
        "    res = np.zeros((M.shape[0],M.shape[1]//stride[0],M.shape[2]//stride[1]))\n",
        "    for k in range(0,M.shape[0]):\n",
        "        for i in range(0,M.shape[1],stride[0]):\n",
        "            for j in range(0,M.shape[2],stride[1]):\n",
        "                tmp = M[:,i:i + pool_size[0],j:j + pool_size[1]]\n",
        "            match type_:\n",
        "                case 'max':\n",
        "                    res[k][i][j] = np.max(tmp,axis=0)[k]\n",
        "                case 'min':\n",
        "                    res[k][i][j] = np.min(tmp,axis=0)[k]\n",
        "                case 'mean':\n",
        "                    res[k][i][j] = np.mean(tmp,asix=0)[k]\n",
        "    return res\n",
        "\n",
        "def unpooling_np(M,pool_size,stride):\n",
        "    pass\n",
        "\n",
        "def deconvolution_np(F,M):\n",
        "    pass"
      ],
      "metadata": {
        "id": "9SDMdvAHbIUR"
      },
      "execution_count": null,
      "outputs": []
    },
    {
      "cell_type": "code",
      "source": [
        "a = [[6,1,8],[3,2,5],[9,5,7],[4,3,6]]\n",
        "#tmp = a[0]\n",
        "#for i in range(1,len(a)):\n",
        "#    tmp += a[i]\n",
        "#tmp.sort()\n",
        "#print(tmp)\n",
        "#tmp.sort()\n",
        "#tmp\n",
        "array_shape(a)"
      ],
      "metadata": {
        "id": "DvlUASWVam2U",
        "outputId": "384e6d99-4998-459a-9f34-9c1354c20633",
        "colab": {
          "base_uri": "https://localhost:8080/"
        }
      },
      "execution_count": null,
      "outputs": [
        {
          "output_type": "execute_result",
          "data": {
            "text/plain": [
              "[4, 3]"
            ]
          },
          "metadata": {},
          "execution_count": 18
        }
      ]
    },
    {
      "cell_type": "code",
      "source": [
        "a = np.array(a)\n",
        "#a.flatten()"
      ],
      "metadata": {
        "id": "jYKNbBB7g8Ke"
      },
      "execution_count": null,
      "outputs": []
    },
    {
      "cell_type": "code",
      "source": [
        "b = np.array([[[1,3,5,7],[2,4,6,8],[2,6,7,1],[9,4,10,3]],[[2,3,9,6],[1,7,6,5],[10,13,9,6],[2,4,5,10]]])\n"
      ],
      "metadata": {
        "id": "Y9As5Dp9_3tF",
        "outputId": "3d054f9d-c618-4a28-b075-504431bfa1f4",
        "colab": {
          "base_uri": "https://localhost:8080/"
        }
      },
      "execution_count": null,
      "outputs": [
        {
          "output_type": "execute_result",
          "data": {
            "text/plain": [
              "array([[ 2,  3,  9,  6],\n",
              "       [ 1,  7,  6,  5],\n",
              "       [10, 13,  9,  6],\n",
              "       [ 2,  4,  5, 10]])"
            ]
          },
          "metadata": {},
          "execution_count": 37
        }
      ]
    }
  ]
}